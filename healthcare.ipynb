{
 "cells": [
  {
   "cell_type": "code",
   "execution_count": 2,
   "id": "9c5c3131",
   "metadata": {},
   "outputs": [],
   "source": [
    "import numpy as np \n",
    "import pandas as pd\n",
    "import matplotlib.pyplot as plt\n",
    "import seaborn as sns\n",
    "\n",
    "import warnings\n",
    "warnings.filterwarnings('ignore')"
   ]
  },
  {
   "cell_type": "code",
   "execution_count": 3,
   "id": "29ef6487",
   "metadata": {},
   "outputs": [],
   "source": [
    "data_audit = pd.read_csv(r\"E:\\python projects\\Datasets\\healthcare\\audit_logs.csv\")\n",
    "data_consents = pd.read_csv(r\"E:\\python projects\\Datasets\\healthcare\\consents.csv\")\n",
    "data_cpt = pd.read_csv(r\"E:\\python projects\\Datasets\\healthcare\\cpt_codes.csv\")\n",
    "data_diagnoses = pd.read_csv(r\"E:\\python projects\\Datasets\\healthcare\\diagnoses.csv\")\n",
    "data_encounters = pd.read_csv(r\"E:\\python projects\\Datasets\\healthcare\\encounters.csv\")\n",
    "data_icd10 = pd.read_csv(r\"E:\\python projects\\Datasets\\healthcare\\icd10_codes.csv\")\n",
    "data_observations = pd.read_csv(r\"E:\\python projects\\Datasets\\healthcare\\observations.csv\")\n",
    "data_patients = pd.read_csv(r\"E:\\python projects\\Datasets\\healthcare\\patients.csv\")\n",
    "data_practitioners = pd.read_csv(r\"E:\\python projects\\Datasets\\healthcare\\practitioners.csv\")\n",
    "data_procedures = pd.read_csv(r\"E:\\python projects\\Datasets\\healthcare\\procedures.csv\")"
   ]
  },
  {
   "cell_type": "code",
   "execution_count": 4,
   "id": "763d3b9f",
   "metadata": {},
   "outputs": [
    {
     "data": {
      "text/html": [
       "<div>\n",
       "<style scoped>\n",
       "    .dataframe tbody tr th:only-of-type {\n",
       "        vertical-align: middle;\n",
       "    }\n",
       "\n",
       "    .dataframe tbody tr th {\n",
       "        vertical-align: top;\n",
       "    }\n",
       "\n",
       "    .dataframe thead th {\n",
       "        text-align: right;\n",
       "    }\n",
       "</style>\n",
       "<table border=\"1\" class=\"dataframe\">\n",
       "  <thead>\n",
       "    <tr style=\"text-align: right;\">\n",
       "      <th></th>\n",
       "      <th>User_ID</th>\n",
       "      <th>Table_Name</th>\n",
       "      <th>Record_ID</th>\n",
       "      <th>Action_Type</th>\n",
       "      <th>Purpose_Code</th>\n",
       "      <th>Action_Timestamp</th>\n",
       "      <th>Audit_ID</th>\n",
       "    </tr>\n",
       "  </thead>\n",
       "  <tbody>\n",
       "    <tr>\n",
       "      <th>0</th>\n",
       "      <td>jeremyjones</td>\n",
       "      <td>Procedure</td>\n",
       "      <td>52401</td>\n",
       "      <td>INSERT</td>\n",
       "      <td>TREATMENT</td>\n",
       "      <td>2025-06-22 23:05:33</td>\n",
       "      <td>1</td>\n",
       "    </tr>\n",
       "    <tr>\n",
       "      <th>1</th>\n",
       "      <td>mckinneyandrea</td>\n",
       "      <td>Procedure</td>\n",
       "      <td>102267</td>\n",
       "      <td>DELETE</td>\n",
       "      <td>NaN</td>\n",
       "      <td>2024-09-07 03:14:25</td>\n",
       "      <td>2</td>\n",
       "    </tr>\n",
       "    <tr>\n",
       "      <th>2</th>\n",
       "      <td>barbara69</td>\n",
       "      <td>Encounter</td>\n",
       "      <td>57280</td>\n",
       "      <td>DELETE</td>\n",
       "      <td>NaN</td>\n",
       "      <td>2025-02-12 10:04:51</td>\n",
       "      <td>3</td>\n",
       "    </tr>\n",
       "    <tr>\n",
       "      <th>3</th>\n",
       "      <td>umartinez</td>\n",
       "      <td>Encounter</td>\n",
       "      <td>215485</td>\n",
       "      <td>INSERT</td>\n",
       "      <td>INVALID</td>\n",
       "      <td>2023-11-19 01:40:17</td>\n",
       "      <td>4</td>\n",
       "    </tr>\n",
       "    <tr>\n",
       "      <th>4</th>\n",
       "      <td>qallen</td>\n",
       "      <td>Observation</td>\n",
       "      <td>214473</td>\n",
       "      <td>INVALID_ACTION</td>\n",
       "      <td>INVALID</td>\n",
       "      <td>2024-12-27 04:51:45</td>\n",
       "      <td>5</td>\n",
       "    </tr>\n",
       "  </tbody>\n",
       "</table>\n",
       "</div>"
      ],
      "text/plain": [
       "          User_ID   Table_Name  Record_ID     Action_Type Purpose_Code  \\\n",
       "0     jeremyjones    Procedure      52401          INSERT    TREATMENT   \n",
       "1  mckinneyandrea    Procedure     102267          DELETE          NaN   \n",
       "2       barbara69    Encounter      57280          DELETE          NaN   \n",
       "3       umartinez    Encounter     215485          INSERT      INVALID   \n",
       "4          qallen  Observation     214473  INVALID_ACTION      INVALID   \n",
       "\n",
       "      Action_Timestamp  Audit_ID  \n",
       "0  2025-06-22 23:05:33         1  \n",
       "1  2024-09-07 03:14:25         2  \n",
       "2  2025-02-12 10:04:51         3  \n",
       "3  2023-11-19 01:40:17         4  \n",
       "4  2024-12-27 04:51:45         5  "
      ]
     },
     "execution_count": 4,
     "metadata": {},
     "output_type": "execute_result"
    }
   ],
   "source": [
    "data_audit.head()"
   ]
  },
  {
   "cell_type": "code",
   "execution_count": 5,
   "id": "be038975",
   "metadata": {},
   "outputs": [
    {
     "name": "stdout",
     "output_type": "stream",
     "text": [
      "<class 'pandas.core.frame.DataFrame'>\n",
      "RangeIndex: 10000 entries, 0 to 9999\n",
      "Data columns (total 7 columns):\n",
      " #   Column            Non-Null Count  Dtype \n",
      "---  ------            --------------  ----- \n",
      " 0   User_ID           10000 non-null  object\n",
      " 1   Table_Name        10000 non-null  object\n",
      " 2   Record_ID         10000 non-null  int64 \n",
      " 3   Action_Type       10000 non-null  object\n",
      " 4   Purpose_Code      7984 non-null   object\n",
      " 5   Action_Timestamp  10000 non-null  object\n",
      " 6   Audit_ID          10000 non-null  int64 \n",
      "dtypes: int64(2), object(5)\n",
      "memory usage: 547.0+ KB\n"
     ]
    }
   ],
   "source": [
    "data_audit.info()"
   ]
  },
  {
   "cell_type": "code",
   "execution_count": 6,
   "id": "c9440edb",
   "metadata": {},
   "outputs": [
    {
     "data": {
      "text/plain": [
       "User_ID                0\n",
       "Table_Name             0\n",
       "Record_ID              0\n",
       "Action_Type            0\n",
       "Purpose_Code        2016\n",
       "Action_Timestamp       0\n",
       "Audit_ID               0\n",
       "dtype: int64"
      ]
     },
     "execution_count": 6,
     "metadata": {},
     "output_type": "execute_result"
    }
   ],
   "source": [
    "data_audit.isnull().sum()"
   ]
  },
  {
   "cell_type": "code",
   "execution_count": 7,
   "id": "c6814a88",
   "metadata": {},
   "outputs": [
    {
     "data": {
      "text/plain": [
       "np.int64(0)"
      ]
     },
     "execution_count": 7,
     "metadata": {},
     "output_type": "execute_result"
    }
   ],
   "source": [
    "data_audit.duplicated().sum()"
   ]
  },
  {
   "cell_type": "code",
   "execution_count": 8,
   "id": "6eef9b09",
   "metadata": {},
   "outputs": [
    {
     "name": "stdout",
     "output_type": "stream",
     "text": [
      "['Procedure' 'Encounter' 'Observation' 'Diagnosis' 'Patient']\n",
      "['INSERT' 'DELETE' 'INVALID_ACTION' 'UPDATE' 'SELECT']\n",
      "['TREATMENT' nan 'INVALID' 'RESEARCH' 'BILLING']\n",
      "2023-06-27 08:48:52\n",
      "2025-06-26 20:01:49\n"
     ]
    }
   ],
   "source": [
    "data_audit['Action_Timestamp'] = pd.to_datetime(data_audit['Action_Timestamp'])\n",
    "\n",
    "data_audit['Table_Name'].unique()\n",
    "data_audit['Action_Type'].unique()\n",
    "data_audit['Purpose_Code'].unique()\n",
    "\n",
    "print(data_audit['Table_Name'].unique())\n",
    "print(data_audit['Action_Type'].unique())\n",
    "print(data_audit['Purpose_Code'].unique())\n",
    "\n",
    "\n",
    "print(data_audit['Action_Timestamp'].min())\n",
    "print(data_audit['Action_Timestamp'].max())\n",
    "\n"
   ]
  },
  {
   "cell_type": "markdown",
   "id": "e8aec184",
   "metadata": {},
   "source": [
    "| **Column Name**    | **Description**                                                                                                                             | \n",
    "| ------------------ | ------------------------------------------------------------------------------------------------------------------------------------------- | \n",
    "| `Audit_ID`         | A unique identifier for each audit log entry (auto-incremented).                                                                            | \n",
    "| `User_ID`          | The ID of the user (e.g., analyst, system, admin) who performed the action.                                                                 | \n",
    "| `Table_Name`       | The name of the database table where the action took place. Could be `Procedure`, `Encounter`, `Observation`, etc.                          | \n",
    "| `Record_ID`        | The unique ID of the specific record (row) in the referenced table (`Table_Name`) that was affected by the action.                          | \n",
    "| `Action_Type`      | The type of action performed. Typical values: `SELECT`, `INSERT`, `UPDATE`, `DELETE`. Invalid or custom values may indicate logging errors. | \n",
    "| `Purpose_Code`     | The reason or legal basis for accessing the data. Examples: `TREATMENT`, `RESEARCH`, `PAYMENT`. `INVALID` or `NaN` may indicate issues.     | \n",
    "| `Action_Timestamp` | The exact date and time the action occurred, useful for auditing and traceability.                                                          |\n"
   ]
  },
  {
   "cell_type": "code",
   "execution_count": 9,
   "id": "e0e86f2b",
   "metadata": {},
   "outputs": [],
   "source": [
    "data_audit['Purpose_Code'] = data_audit['Purpose_Code'].fillna('UNKNOWN_PURPOSE')"
   ]
  },
  {
   "cell_type": "code",
   "execution_count": 10,
   "id": "f3ac6697",
   "metadata": {},
   "outputs": [
    {
     "data": {
      "text/plain": [
       "User_ID             0\n",
       "Table_Name          0\n",
       "Record_ID           0\n",
       "Action_Type         0\n",
       "Purpose_Code        0\n",
       "Action_Timestamp    0\n",
       "Audit_ID            0\n",
       "dtype: int64"
      ]
     },
     "execution_count": 10,
     "metadata": {},
     "output_type": "execute_result"
    }
   ],
   "source": [
    "data_audit.isnull().sum()"
   ]
  },
  {
   "cell_type": "markdown",
   "id": "561e9174",
   "metadata": {},
   "source": [
    "in data_audit No duplicates , 2016 null value in purpose_code  filled with unknown purpose  , Action_type column with INVALID_ACTION Value &  Purpose_code column with INVALID_ACTION & Unknown Purpose Value are not Complaint with GDPR/HIPAA"
   ]
  },
  {
   "cell_type": "code",
   "execution_count": 11,
   "id": "d0b26187",
   "metadata": {},
   "outputs": [
    {
     "data": {
      "text/html": [
       "<div>\n",
       "<style scoped>\n",
       "    .dataframe tbody tr th:only-of-type {\n",
       "        vertical-align: middle;\n",
       "    }\n",
       "\n",
       "    .dataframe tbody tr th {\n",
       "        vertical-align: top;\n",
       "    }\n",
       "\n",
       "    .dataframe thead th {\n",
       "        text-align: right;\n",
       "    }\n",
       "</style>\n",
       "<table border=\"1\" class=\"dataframe\">\n",
       "  <thead>\n",
       "    <tr style=\"text-align: right;\">\n",
       "      <th></th>\n",
       "      <th>Patient_Surrogate_ID</th>\n",
       "      <th>Consent_Type_Code</th>\n",
       "      <th>Consent_Given_Date</th>\n",
       "      <th>Consent_Expires_Date</th>\n",
       "      <th>Consent_ID</th>\n",
       "    </tr>\n",
       "  </thead>\n",
       "  <tbody>\n",
       "    <tr>\n",
       "      <th>0</th>\n",
       "      <td>33554</td>\n",
       "      <td>RESEARCH</td>\n",
       "      <td>2024-10-17</td>\n",
       "      <td>NaN</td>\n",
       "      <td>1</td>\n",
       "    </tr>\n",
       "    <tr>\n",
       "      <th>1</th>\n",
       "      <td>9428</td>\n",
       "      <td>TREATMENT</td>\n",
       "      <td>2024-05-13</td>\n",
       "      <td>2027-06-12</td>\n",
       "      <td>2</td>\n",
       "    </tr>\n",
       "    <tr>\n",
       "      <th>2</th>\n",
       "      <td>200</td>\n",
       "      <td>INVALID</td>\n",
       "      <td>2022-09-28</td>\n",
       "      <td>NaN</td>\n",
       "      <td>3</td>\n",
       "    </tr>\n",
       "    <tr>\n",
       "      <th>3</th>\n",
       "      <td>12448</td>\n",
       "      <td>TREATMENT</td>\n",
       "      <td>2022-10-20</td>\n",
       "      <td>2025-12-04</td>\n",
       "      <td>4</td>\n",
       "    </tr>\n",
       "    <tr>\n",
       "      <th>4</th>\n",
       "      <td>39490</td>\n",
       "      <td>INVALID</td>\n",
       "      <td>2025-06-02</td>\n",
       "      <td>2026-12-13</td>\n",
       "      <td>5</td>\n",
       "    </tr>\n",
       "  </tbody>\n",
       "</table>\n",
       "</div>"
      ],
      "text/plain": [
       "   Patient_Surrogate_ID Consent_Type_Code Consent_Given_Date  \\\n",
       "0                 33554          RESEARCH         2024-10-17   \n",
       "1                  9428         TREATMENT         2024-05-13   \n",
       "2                   200           INVALID         2022-09-28   \n",
       "3                 12448         TREATMENT         2022-10-20   \n",
       "4                 39490           INVALID         2025-06-02   \n",
       "\n",
       "  Consent_Expires_Date  Consent_ID  \n",
       "0                  NaN           1  \n",
       "1           2027-06-12           2  \n",
       "2                  NaN           3  \n",
       "3           2025-12-04           4  \n",
       "4           2026-12-13           5  "
      ]
     },
     "execution_count": 11,
     "metadata": {},
     "output_type": "execute_result"
    }
   ],
   "source": [
    "data_consents.head()"
   ]
  },
  {
   "cell_type": "code",
   "execution_count": 12,
   "id": "b04a31c9",
   "metadata": {},
   "outputs": [
    {
     "name": "stdout",
     "output_type": "stream",
     "text": [
      "<class 'pandas.core.frame.DataFrame'>\n",
      "RangeIndex: 35000 entries, 0 to 34999\n",
      "Data columns (total 5 columns):\n",
      " #   Column                Non-Null Count  Dtype \n",
      "---  ------                --------------  ----- \n",
      " 0   Patient_Surrogate_ID  35000 non-null  int64 \n",
      " 1   Consent_Type_Code     35000 non-null  object\n",
      " 2   Consent_Given_Date    35000 non-null  object\n",
      " 3   Consent_Expires_Date  21015 non-null  object\n",
      " 4   Consent_ID            35000 non-null  int64 \n",
      "dtypes: int64(2), object(3)\n",
      "memory usage: 1.3+ MB\n"
     ]
    }
   ],
   "source": [
    "data_consents.info()"
   ]
  },
  {
   "cell_type": "code",
   "execution_count": 13,
   "id": "e9440e4b",
   "metadata": {},
   "outputs": [
    {
     "data": {
      "text/plain": [
       "Patient_Surrogate_ID        0\n",
       "Consent_Type_Code           0\n",
       "Consent_Given_Date          0\n",
       "Consent_Expires_Date    13985\n",
       "Consent_ID                  0\n",
       "dtype: int64"
      ]
     },
     "execution_count": 13,
     "metadata": {},
     "output_type": "execute_result"
    }
   ],
   "source": [
    "data_consents.isnull().sum()"
   ]
  },
  {
   "cell_type": "code",
   "execution_count": 14,
   "id": "7810aac8",
   "metadata": {},
   "outputs": [
    {
     "data": {
      "text/plain": [
       "np.int64(0)"
      ]
     },
     "execution_count": 14,
     "metadata": {},
     "output_type": "execute_result"
    }
   ],
   "source": [
    "data_consents.duplicated().sum()"
   ]
  },
  {
   "cell_type": "code",
   "execution_count": 15,
   "id": "175c2910",
   "metadata": {},
   "outputs": [],
   "source": [
    "data_consents['Consent_Given_Date'] = pd.to_datetime(data_consents['Consent_Given_Date'], errors='coerce')\n",
    "data_consents['Consent_Expires_Date'] = pd.to_datetime(data_consents['Consent_Expires_Date'], errors='coerce')"
   ]
  },
  {
   "cell_type": "code",
   "execution_count": 16,
   "id": "11aedf6b",
   "metadata": {},
   "outputs": [
    {
     "name": "stdout",
     "output_type": "stream",
     "text": [
      "['RESEARCH' 'TREATMENT' 'INVALID' 'SHARING']\n",
      "2022-06-26 00:00:00\n",
      "2025-06-25 00:00:00\n",
      "2025-06-26 00:00:00\n",
      "2027-06-25 00:00:00\n"
     ]
    }
   ],
   "source": [
    "print(data_consents['Consent_Type_Code'].unique())\n",
    "print(data_consents['Consent_Given_Date'].min())\n",
    "print(data_consents['Consent_Given_Date'].max())\n",
    "print(data_consents['Consent_Expires_Date'].min())\n",
    "print(data_consents['Consent_Expires_Date'].max())"
   ]
  },
  {
   "cell_type": "markdown",
   "id": "271d03b6",
   "metadata": {},
   "source": [
    "| **Column Name**        |  **Meaning / Description**                                                                                                                                                                   |\n",
    "| ---------------------- | -------------------------------------------------------------------------------------------------------------------------------------------------------------------------------------------- |\n",
    "| `Patient_Surrogate_ID` |  A **pseudonymized internal patient ID**, used to uniquely identify patients without exposing PHI. This ID links consent and clinical records without revealing the actual patient identity. |\n",
    "| `Consent_Type_Code`    |  Indicates the **type of consent** given by the patient. Examples: `'treatment'`, `'research'`, `'marketing'`, or `'data_sharing'`. Useful for compliance filtering.                         |\n",
    "| `Consent_Given_Date`   |  The **date the patient gave their consent** for the specified purpose. This is required to validate lawful processing of data.                                                              |\n",
    "| `Consent_Expires_Date` |  The **expiry date** of the consent, after which the data should no longer be used for the specified purpose unless re-consent is obtained.                                                  |\n",
    "| `Consent_ID`           |  A **unique identifier for the consent record** itself (primary key). Used to track individual consent instances per patient.                                                                |\n"
   ]
  },
  {
   "cell_type": "code",
   "execution_count": 17,
   "id": "4e37adfd",
   "metadata": {},
   "outputs": [],
   "source": [
    "data_consents['Consent_Expires_Date'] = data_consents['Consent_Expires_Date'].fillna(data_consents['Consent_Given_Date']+pd.Timedelta(days=1095))"
   ]
  },
  {
   "cell_type": "code",
   "execution_count": 18,
   "id": "c121f1ed",
   "metadata": {},
   "outputs": [
    {
     "data": {
      "text/plain": [
       "Patient_Surrogate_ID    0\n",
       "Consent_Type_Code       0\n",
       "Consent_Given_Date      0\n",
       "Consent_Expires_Date    0\n",
       "Consent_ID              0\n",
       "dtype: int64"
      ]
     },
     "execution_count": 18,
     "metadata": {},
     "output_type": "execute_result"
    }
   ],
   "source": [
    "data_consents.isnull().sum()"
   ]
  },
  {
   "cell_type": "markdown",
   "id": "8b4521da",
   "metadata": {},
   "source": [
    "in data_consents no Duplicates , 13985 null values in Consent_Expires_Date filled with date after 3 years"
   ]
  },
  {
   "cell_type": "code",
   "execution_count": 19,
   "id": "18f6a540",
   "metadata": {},
   "outputs": [
    {
     "data": {
      "text/html": [
       "<div>\n",
       "<style scoped>\n",
       "    .dataframe tbody tr th:only-of-type {\n",
       "        vertical-align: middle;\n",
       "    }\n",
       "\n",
       "    .dataframe tbody tr th {\n",
       "        vertical-align: top;\n",
       "    }\n",
       "\n",
       "    .dataframe thead th {\n",
       "        text-align: right;\n",
       "    }\n",
       "</style>\n",
       "<table border=\"1\" class=\"dataframe\">\n",
       "  <thead>\n",
       "    <tr style=\"text-align: right;\">\n",
       "      <th></th>\n",
       "      <th>CPT_Code</th>\n",
       "      <th>Description</th>\n",
       "    </tr>\n",
       "  </thead>\n",
       "  <tbody>\n",
       "    <tr>\n",
       "      <th>0</th>\n",
       "      <td>99213</td>\n",
       "      <td>Matter dark ready meet city care.</td>\n",
       "    </tr>\n",
       "    <tr>\n",
       "      <th>1</th>\n",
       "      <td>93000</td>\n",
       "      <td>Rule another whom five perform create trade.</td>\n",
       "    </tr>\n",
       "    <tr>\n",
       "      <th>2</th>\n",
       "      <td>80053</td>\n",
       "      <td>Message budget join indeed forward everybody.</td>\n",
       "    </tr>\n",
       "    <tr>\n",
       "      <th>3</th>\n",
       "      <td>81002</td>\n",
       "      <td>Little other market today body movie eat.</td>\n",
       "    </tr>\n",
       "    <tr>\n",
       "      <th>4</th>\n",
       "      <td>12002</td>\n",
       "      <td>Upon kid wait happen alone.</td>\n",
       "    </tr>\n",
       "  </tbody>\n",
       "</table>\n",
       "</div>"
      ],
      "text/plain": [
       "  CPT_Code                                    Description\n",
       "0    99213              Matter dark ready meet city care.\n",
       "1    93000   Rule another whom five perform create trade.\n",
       "2    80053  Message budget join indeed forward everybody.\n",
       "3    81002      Little other market today body movie eat.\n",
       "4    12002                    Upon kid wait happen alone."
      ]
     },
     "execution_count": 19,
     "metadata": {},
     "output_type": "execute_result"
    }
   ],
   "source": [
    "data_cpt.head()"
   ]
  },
  {
   "cell_type": "code",
   "execution_count": 20,
   "id": "448c1d01",
   "metadata": {},
   "outputs": [
    {
     "name": "stdout",
     "output_type": "stream",
     "text": [
      "<class 'pandas.core.frame.DataFrame'>\n",
      "RangeIndex: 7 entries, 0 to 6\n",
      "Data columns (total 2 columns):\n",
      " #   Column       Non-Null Count  Dtype \n",
      "---  ------       --------------  ----- \n",
      " 0   CPT_Code     7 non-null      object\n",
      " 1   Description  7 non-null      object\n",
      "dtypes: object(2)\n",
      "memory usage: 244.0+ bytes\n"
     ]
    }
   ],
   "source": [
    "data_cpt.info()"
   ]
  },
  {
   "cell_type": "code",
   "execution_count": 21,
   "id": "33df79fb",
   "metadata": {},
   "outputs": [],
   "source": [
    "data_cpt['CPT_Code'] = pd.to_numeric(data_cpt['CPT_Code'], errors='coerce')"
   ]
  },
  {
   "cell_type": "code",
   "execution_count": 22,
   "id": "935b699d",
   "metadata": {},
   "outputs": [
    {
     "data": {
      "text/plain": [
       "CPT_Code       1\n",
       "Description    0\n",
       "dtype: int64"
      ]
     },
     "execution_count": 22,
     "metadata": {},
     "output_type": "execute_result"
    }
   ],
   "source": [
    "data_cpt.isnull().sum()"
   ]
  },
  {
   "cell_type": "code",
   "execution_count": 23,
   "id": "be5e0be8",
   "metadata": {},
   "outputs": [
    {
     "data": {
      "text/plain": [
       "np.int64(0)"
      ]
     },
     "execution_count": 23,
     "metadata": {},
     "output_type": "execute_result"
    }
   ],
   "source": [
    "data_cpt.duplicated().sum()"
   ]
  },
  {
   "cell_type": "code",
   "execution_count": 24,
   "id": "6699dbfa",
   "metadata": {},
   "outputs": [
    {
     "data": {
      "text/plain": [
       "array([99213., 93000., 80053., 81002., 12002., 71045.,    nan])"
      ]
     },
     "execution_count": 24,
     "metadata": {},
     "output_type": "execute_result"
    }
   ],
   "source": [
    "data_cpt['CPT_Code'].unique()"
   ]
  },
  {
   "cell_type": "code",
   "execution_count": 25,
   "id": "633f9b35",
   "metadata": {},
   "outputs": [
    {
     "data": {
      "text/html": [
       "<div>\n",
       "<style scoped>\n",
       "    .dataframe tbody tr th:only-of-type {\n",
       "        vertical-align: middle;\n",
       "    }\n",
       "\n",
       "    .dataframe tbody tr th {\n",
       "        vertical-align: top;\n",
       "    }\n",
       "\n",
       "    .dataframe thead th {\n",
       "        text-align: right;\n",
       "    }\n",
       "</style>\n",
       "<table border=\"1\" class=\"dataframe\">\n",
       "  <thead>\n",
       "    <tr style=\"text-align: right;\">\n",
       "      <th></th>\n",
       "      <th>CPT_Code</th>\n",
       "      <th>Description</th>\n",
       "    </tr>\n",
       "  </thead>\n",
       "  <tbody>\n",
       "    <tr>\n",
       "      <th>6</th>\n",
       "      <td>NaN</td>\n",
       "      <td>Yard third take son indeed.</td>\n",
       "    </tr>\n",
       "  </tbody>\n",
       "</table>\n",
       "</div>"
      ],
      "text/plain": [
       "   CPT_Code                  Description\n",
       "6       NaN  Yard third take son indeed."
      ]
     },
     "execution_count": 25,
     "metadata": {},
     "output_type": "execute_result"
    }
   ],
   "source": [
    "data_cpt[data_cpt['CPT_Code'].isnull()]"
   ]
  },
  {
   "cell_type": "code",
   "execution_count": 26,
   "id": "be0d148e",
   "metadata": {},
   "outputs": [
    {
     "data": {
      "text/plain": [
       "array(['Matter dark ready meet city care.',\n",
       "       'Rule another whom five perform create trade.',\n",
       "       'Message budget join indeed forward everybody.',\n",
       "       'Little other market today body movie eat.',\n",
       "       'Upon kid wait happen alone.',\n",
       "       'Natural car century foot less model play.',\n",
       "       'Yard third take son indeed.'], dtype=object)"
      ]
     },
     "execution_count": 26,
     "metadata": {},
     "output_type": "execute_result"
    }
   ],
   "source": [
    "data_cpt['Description'].unique()"
   ]
  },
  {
   "cell_type": "markdown",
   "id": "a1babc37",
   "metadata": {},
   "source": [
    "| **Column Name** | **Description**                                                                                                                                                                                                       |\n",
    "| --------------- | --------------------------------------------------------------------------------------------------------------------------------------------------------------------------------------------------------------------- |\n",
    "| `CPT_Code`      | A 5-character standardized code from the **Current Procedural Terminology (CPT)** system. It represents a specific **medical procedure or service** (e.g., `99213` = \"Office/outpatient visit, established patient\"). |\n",
    "| `Description`   | A **human-readable label** or name for the CPT code — explaining what the procedure entails (e.g., \"MRI of brain without contrast\").                                                                                  |\n"
   ]
  },
  {
   "cell_type": "code",
   "execution_count": 27,
   "id": "b409e861",
   "metadata": {},
   "outputs": [
    {
     "name": "stdout",
     "output_type": "stream",
     "text": [
      "   CPT_Code                                        Description\n",
      "0   99213.0  Office or other outpatient visit for evaluatio...\n",
      "1   93000.0  Electrocardiogram, routine ECG with at least 1...\n",
      "2   80053.0               Comprehensive metabolic panel (CMP).\n",
      "3   81002.0  Urinalysis, by dip stick or tablet reagent; no...\n",
      "4   12002.0  Simple repair of superficial wounds of scalp, ...\n",
      "5   71045.0  Radiologic examination, chest; single view, fr...\n",
      "6       NaN  Missing CPT code - procedure description not a...\n"
     ]
    }
   ],
   "source": [
    "# Assuming your DataFrame is named data_cpt\n",
    "data_cpt = pd.DataFrame({\n",
    "    'CPT_Code': [99213.0, 93000.0, 80053.0, 81002.0, 12002.0, 71045.0, np.nan],\n",
    "    'Description': [\n",
    "        \"Matter dark ready meet city care.\",  \n",
    "        \"Rule another whom five perform create trade.\",  \n",
    "        \"Message budget join indeed forward everybody.\",  \n",
    "        \"Little other market today body movie eat.\",  \n",
    "        \"Upon kid wait happen alone.\",  \n",
    "        \"Natural car century foot less model play.\",  \n",
    "        \"Yard third take son indeed.\"  \n",
    "    ]\n",
    "})\n",
    "\n",
    "# Correct CPT descriptions dictionary\n",
    "correct_descriptions = {\n",
    "    99213.0: \"Office or other outpatient visit for evaluation and management of an established patient, typically 15 minutes.\",\n",
    "    93000.0: \"Electrocardiogram, routine ECG with at least 12 leads; with interpretation and report.\",\n",
    "    80053.0: \"Comprehensive metabolic panel (CMP).\",\n",
    "    81002.0: \"Urinalysis, by dip stick or tablet reagent; non-automated, without microscopy.\",\n",
    "    12002.0: \"Simple repair of superficial wounds of scalp, neck, axillae, external genitalia, trunk and/or extremities (2.5 cm or less).\",\n",
    "    71045.0: \"Radiologic examination, chest; single view, frontal.\"\n",
    "}\n",
    "\n",
    "# Replace wrong descriptions using CPT_Code\n",
    "def update_description(row):\n",
    "    if pd.isna(row['CPT_Code']):\n",
    "        return \"Missing CPT code - procedure description not available.\"\n",
    "    return correct_descriptions.get(row['CPT_Code'], row['Description'])\n",
    "\n",
    "data_cpt['Description'] = data_cpt.apply(update_description, axis=1)\n",
    "\n",
    "print(data_cpt)\n"
   ]
  },
  {
   "cell_type": "code",
   "execution_count": 28,
   "id": "6105e256",
   "metadata": {},
   "outputs": [
    {
     "data": {
      "text/html": [
       "<div>\n",
       "<style scoped>\n",
       "    .dataframe tbody tr th:only-of-type {\n",
       "        vertical-align: middle;\n",
       "    }\n",
       "\n",
       "    .dataframe tbody tr th {\n",
       "        vertical-align: top;\n",
       "    }\n",
       "\n",
       "    .dataframe thead th {\n",
       "        text-align: right;\n",
       "    }\n",
       "</style>\n",
       "<table border=\"1\" class=\"dataframe\">\n",
       "  <thead>\n",
       "    <tr style=\"text-align: right;\">\n",
       "      <th></th>\n",
       "      <th>CPT_Code</th>\n",
       "      <th>Description</th>\n",
       "    </tr>\n",
       "  </thead>\n",
       "  <tbody>\n",
       "    <tr>\n",
       "      <th>0</th>\n",
       "      <td>99213.0</td>\n",
       "      <td>Office or other outpatient visit for evaluatio...</td>\n",
       "    </tr>\n",
       "    <tr>\n",
       "      <th>1</th>\n",
       "      <td>93000.0</td>\n",
       "      <td>Electrocardiogram, routine ECG with at least 1...</td>\n",
       "    </tr>\n",
       "    <tr>\n",
       "      <th>2</th>\n",
       "      <td>80053.0</td>\n",
       "      <td>Comprehensive metabolic panel (CMP).</td>\n",
       "    </tr>\n",
       "    <tr>\n",
       "      <th>3</th>\n",
       "      <td>81002.0</td>\n",
       "      <td>Urinalysis, by dip stick or tablet reagent; no...</td>\n",
       "    </tr>\n",
       "    <tr>\n",
       "      <th>4</th>\n",
       "      <td>12002.0</td>\n",
       "      <td>Simple repair of superficial wounds of scalp, ...</td>\n",
       "    </tr>\n",
       "    <tr>\n",
       "      <th>5</th>\n",
       "      <td>71045.0</td>\n",
       "      <td>Radiologic examination, chest; single view, fr...</td>\n",
       "    </tr>\n",
       "    <tr>\n",
       "      <th>6</th>\n",
       "      <td>NaN</td>\n",
       "      <td>Missing CPT code - procedure description not a...</td>\n",
       "    </tr>\n",
       "  </tbody>\n",
       "</table>\n",
       "</div>"
      ],
      "text/plain": [
       "   CPT_Code                                        Description\n",
       "0   99213.0  Office or other outpatient visit for evaluatio...\n",
       "1   93000.0  Electrocardiogram, routine ECG with at least 1...\n",
       "2   80053.0               Comprehensive metabolic panel (CMP).\n",
       "3   81002.0  Urinalysis, by dip stick or tablet reagent; no...\n",
       "4   12002.0  Simple repair of superficial wounds of scalp, ...\n",
       "5   71045.0  Radiologic examination, chest; single view, fr...\n",
       "6       NaN  Missing CPT code - procedure description not a..."
      ]
     },
     "execution_count": 28,
     "metadata": {},
     "output_type": "execute_result"
    }
   ],
   "source": [
    "data_cpt"
   ]
  },
  {
   "cell_type": "markdown",
   "id": "5ef9a65e",
   "metadata": {},
   "source": [
    "| **CPT Code** | **Description**                                                                                                             |\n",
    "| ------------ | --------------------------------------------------------------------------------------------------------------------------- |\n",
    "| 99213        | Office or other outpatient visit for the evaluation and management of an established patient, typically 15 minutes.         |\n",
    "| 93000        | Electrocardiogram, routine ECG with at least 12 leads; with interpretation and report.                                      |\n",
    "| 80053        | Comprehensive metabolic panel (CMP).                                                                                        |\n",
    "| 81002        | Urinalysis, by dip stick or tablet reagent; non-automated, without microscopy.                                              |\n",
    "| 12002        | Simple repair of superficial wounds of scalp, neck, axillae, external genitalia, trunk and/or extremities (2.5 cm or less). |\n",
    "| 71045        | Radiologic examination, chest; single view, frontal.                                                                        |\n",
    "| NULL (nan)   | Missing CPT code — no procedure code provided.                                                                              |\n"
   ]
  },
  {
   "cell_type": "markdown",
   "id": "f5ea1c84",
   "metadata": {},
   "source": [
    "in data_cpt one null value in cpt_code and the description column to be changed to correct ones "
   ]
  },
  {
   "cell_type": "code",
   "execution_count": 29,
   "id": "06f8a831",
   "metadata": {},
   "outputs": [
    {
     "data": {
      "text/html": [
       "<div>\n",
       "<style scoped>\n",
       "    .dataframe tbody tr th:only-of-type {\n",
       "        vertical-align: middle;\n",
       "    }\n",
       "\n",
       "    .dataframe tbody tr th {\n",
       "        vertical-align: top;\n",
       "    }\n",
       "\n",
       "    .dataframe thead th {\n",
       "        text-align: right;\n",
       "    }\n",
       "</style>\n",
       "<table border=\"1\" class=\"dataframe\">\n",
       "  <thead>\n",
       "    <tr style=\"text-align: right;\">\n",
       "      <th></th>\n",
       "      <th>Encounter_ID</th>\n",
       "      <th>ICD10_Code</th>\n",
       "      <th>Diagnosis_Rank</th>\n",
       "      <th>Last_Update_Timestamp</th>\n",
       "      <th>Diagnosis_ID</th>\n",
       "    </tr>\n",
       "  </thead>\n",
       "  <tbody>\n",
       "    <tr>\n",
       "      <th>0</th>\n",
       "      <td>1</td>\n",
       "      <td>I10</td>\n",
       "      <td>1</td>\n",
       "      <td>2022-01-13 07:48:36</td>\n",
       "      <td>1</td>\n",
       "    </tr>\n",
       "    <tr>\n",
       "      <th>1</th>\n",
       "      <td>1</td>\n",
       "      <td>R5383</td>\n",
       "      <td>2</td>\n",
       "      <td>2022-01-14 04:59:11</td>\n",
       "      <td>2</td>\n",
       "    </tr>\n",
       "    <tr>\n",
       "      <th>2</th>\n",
       "      <td>1</td>\n",
       "      <td>E785</td>\n",
       "      <td>3</td>\n",
       "      <td>2022-01-14 12:36:26</td>\n",
       "      <td>3</td>\n",
       "    </tr>\n",
       "    <tr>\n",
       "      <th>3</th>\n",
       "      <td>2</td>\n",
       "      <td>N390</td>\n",
       "      <td>1</td>\n",
       "      <td>2021-05-10 12:12:30</td>\n",
       "      <td>4</td>\n",
       "    </tr>\n",
       "    <tr>\n",
       "      <th>4</th>\n",
       "      <td>2</td>\n",
       "      <td>E785</td>\n",
       "      <td>2</td>\n",
       "      <td>2021-05-23 21:48:25</td>\n",
       "      <td>5</td>\n",
       "    </tr>\n",
       "  </tbody>\n",
       "</table>\n",
       "</div>"
      ],
      "text/plain": [
       "   Encounter_ID ICD10_Code  Diagnosis_Rank Last_Update_Timestamp  Diagnosis_ID\n",
       "0             1        I10               1   2022-01-13 07:48:36             1\n",
       "1             1      R5383               2   2022-01-14 04:59:11             2\n",
       "2             1       E785               3   2022-01-14 12:36:26             3\n",
       "3             2       N390               1   2021-05-10 12:12:30             4\n",
       "4             2       E785               2   2021-05-23 21:48:25             5"
      ]
     },
     "execution_count": 29,
     "metadata": {},
     "output_type": "execute_result"
    }
   ],
   "source": [
    "data_diagnoses.head()"
   ]
  },
  {
   "cell_type": "code",
   "execution_count": 30,
   "id": "3c936df5",
   "metadata": {},
   "outputs": [
    {
     "name": "stdout",
     "output_type": "stream",
     "text": [
      "<class 'pandas.core.frame.DataFrame'>\n",
      "RangeIndex: 623886 entries, 0 to 623885\n",
      "Data columns (total 5 columns):\n",
      " #   Column                 Non-Null Count   Dtype \n",
      "---  ------                 --------------   ----- \n",
      " 0   Encounter_ID           623886 non-null  int64 \n",
      " 1   ICD10_Code             623886 non-null  object\n",
      " 2   Diagnosis_Rank         623886 non-null  int64 \n",
      " 3   Last_Update_Timestamp  623886 non-null  object\n",
      " 4   Diagnosis_ID           623886 non-null  int64 \n",
      "dtypes: int64(3), object(2)\n",
      "memory usage: 23.8+ MB\n"
     ]
    }
   ],
   "source": [
    "data_diagnoses.info()"
   ]
  },
  {
   "cell_type": "code",
   "execution_count": 31,
   "id": "35518826",
   "metadata": {},
   "outputs": [],
   "source": [
    "data_diagnoses['Last_Update_Timestamp'] = pd.to_datetime(data_diagnoses['Last_Update_Timestamp'])"
   ]
  },
  {
   "cell_type": "code",
   "execution_count": 32,
   "id": "26948881",
   "metadata": {},
   "outputs": [
    {
     "data": {
      "text/plain": [
       "array(['I10', 'R5383', 'E785', 'N390', 'J4520', 'K219', 'X999', 'G4733',\n",
       "       'M545', 'G999', 'X9O9', 'X99q', 'Xz99', 'X99T', 'X9m9', 'W999',\n",
       "       'X9M9', 'Xs99', 'B999', 'X99E', 'X99j', 'X9g9', 'Xd99', 'Xb99',\n",
       "       'XJ99', 'XI99', 'X99S', 'Xy99', 'X9T9', 'X99w', 'k999', 'X9Z9',\n",
       "       'X9R9', 'Xq99', 'X9B9', 'XM99', 'L999', 'J999', 'X9H9', 'X99V',\n",
       "       'X9p9', 'XL99', 'X9r9', 'XP99', 'M999', 'f999', 'I999', 'Xn99',\n",
       "       'XS99', 'X99y', 'X9E9', 'XA99', 'X99R', 'X9j9', 'XR99', 'X9I9',\n",
       "       'X99K', 'XB99', 's999', 'XV99', 'X99p', 'X9S9', 'X99g', 'b999',\n",
       "       'X9i9', 'g999', 'X99P', 'XW99', 'A999', 'XK99', 'X9u9', 'X9L9',\n",
       "       'X9h9', 'V999', 'R999', 'X9Q9', 'X9K9', 'X9F9', 'X99o', 'E999',\n",
       "       'XX99', 'X9t9', 'XZ99', 'X9s9', 'X9f9', 'S999', 'U999', 'C999',\n",
       "       'XQ99', 'X99n', 'Xv99', 'X9D9', 'X9y9', 'X99u', 'X99Q', 'X99r',\n",
       "       'X9J9', 'XH99', 'X9v9', 'r999', 'X99C', 'x999', 'X99U', 'X9U9',\n",
       "       'Xi99', 'Q999', 'H999', 'X99m', 'X9c9', 'Xl99', 'XF99', 'Xr99',\n",
       "       'X9e9', 'N999', 'X99I', 'X99i', 'X99L', 'X9C9', 'X99d', 'D999',\n",
       "       't999', 'X99Z', 'X99z', 'X9o9', 'X99c', 'e999', 'X9n9', 'Xj99',\n",
       "       'X9b9', 'Xu99', 'K999', 'X99l', 'XC99', 'Xh99', 'd999', 'X99k',\n",
       "       'X99v', 'X9a9', 'Xo99', 'X99J', 'Xf99', 'm999', 'Xk99', 'X99t',\n",
       "       'X99O', 'X9P9', 'XU99', 'X9X9', 'X9w9', 'X99a', 'X9k9', 'X9G9',\n",
       "       'j999', 'F999', 'X9z9', 'X99f', 'q999', 'X99N', 'X9q9', 'Xa99',\n",
       "       'Xw99', 'X9d9', 'Z999', 'X99x', 'X9A9', 'i999', 'XN99', 'X99B',\n",
       "       'X99h', 'Xm99', 'z999', 'Xe99', 'p999', 'v999', 'XE99', 'Xc99',\n",
       "       'X99W', 'X99X', 'XT99', 'X99D', 'XG99', 'X99F', 'w999', 'h999',\n",
       "       'X99s', 'u999', 'XY99', 'c999', 'T999', 'X9x9', 'X99b', 'a999',\n",
       "       'X9Y9', 'y999', 'n999', 'X9l9', 'X99M', 'X9N9', 'X99A', 'P999',\n",
       "       'XD99', 'O999', 'Y999', 'XO99', 'X99G', 'X99H', 'o999', 'X9V9',\n",
       "       'Xg99', 'Xx99', 'X9W9', 'X99e', 'Xt99', 'Xp99', 'l999', 'X99Y'],\n",
       "      dtype=object)"
      ]
     },
     "execution_count": 32,
     "metadata": {},
     "output_type": "execute_result"
    }
   ],
   "source": [
    "data_diagnoses['ICD10_Code'].unique()"
   ]
  },
  {
   "cell_type": "code",
   "execution_count": 33,
   "id": "62b19f1a",
   "metadata": {},
   "outputs": [
    {
     "data": {
      "text/plain": [
       "Encounter_ID             0\n",
       "ICD10_Code               0\n",
       "Diagnosis_Rank           0\n",
       "Last_Update_Timestamp    0\n",
       "Diagnosis_ID             0\n",
       "dtype: int64"
      ]
     },
     "execution_count": 33,
     "metadata": {},
     "output_type": "execute_result"
    }
   ],
   "source": [
    "data_diagnoses.isnull().sum()"
   ]
  },
  {
   "cell_type": "code",
   "execution_count": 34,
   "id": "c0f92838",
   "metadata": {},
   "outputs": [
    {
     "data": {
      "text/plain": [
       "np.int64(0)"
      ]
     },
     "execution_count": 34,
     "metadata": {},
     "output_type": "execute_result"
    }
   ],
   "source": [
    "data_diagnoses.duplicated().sum()"
   ]
  },
  {
   "cell_type": "markdown",
   "id": "1e456b82",
   "metadata": {},
   "source": [
    "| **Column Name**         | **Description**                                                                                                             |\n",
    "| ----------------------- | --------------------------------------------------------------------------------------------------------------------------- |\n",
    "| `Encounter_ID`          | Unique identifier linking the diagnosis to a specific patient encounter or visit.                                           |\n",
    "| `ICD10_Code`            | Standardized **ICD-10 diagnosis code** representing the medical condition (e.g., E11 for Type 2 Diabetes).                  |\n",
    "| `Diagnosis_Rank`        | Indicates whether the diagnosis is **primary** (`1`) or **secondary** (`2`, `3`, etc.), useful for prioritizing conditions. |\n",
    "| `Last_Update_Timestamp` | The **date and time** the diagnosis record was last created or updated, useful for auditing and tracking data changes.      |\n",
    "| `Diagnosis_ID`          | Unique identifier for each row in the **Diagnosis** table; serves as the primary key.                                       |\n"
   ]
  },
  {
   "cell_type": "markdown",
   "id": "d4e0c2e7",
   "metadata": {},
   "source": [
    "no nulls & no duplicates in data_diagnoses"
   ]
  },
  {
   "cell_type": "code",
   "execution_count": 35,
   "id": "917cc6e9",
   "metadata": {},
   "outputs": [
    {
     "data": {
      "text/html": [
       "<div>\n",
       "<style scoped>\n",
       "    .dataframe tbody tr th:only-of-type {\n",
       "        vertical-align: middle;\n",
       "    }\n",
       "\n",
       "    .dataframe tbody tr th {\n",
       "        vertical-align: top;\n",
       "    }\n",
       "\n",
       "    .dataframe thead th {\n",
       "        text-align: right;\n",
       "    }\n",
       "</style>\n",
       "<table border=\"1\" class=\"dataframe\">\n",
       "  <thead>\n",
       "    <tr style=\"text-align: right;\">\n",
       "      <th></th>\n",
       "      <th>Patient_Surrogate_ID</th>\n",
       "      <th>Encounter_Date</th>\n",
       "      <th>Encounter_Type_Code</th>\n",
       "      <th>Location_Code</th>\n",
       "      <th>Attending_Prov_ID</th>\n",
       "      <th>Last_Update_Timestamp</th>\n",
       "      <th>Encounter_ID</th>\n",
       "    </tr>\n",
       "  </thead>\n",
       "  <tbody>\n",
       "    <tr>\n",
       "      <th>0</th>\n",
       "      <td>1</td>\n",
       "      <td>2021-12-16</td>\n",
       "      <td>INP</td>\n",
       "      <td>HOSP2</td>\n",
       "      <td>211.0</td>\n",
       "      <td>2022-01-11 21:52:28</td>\n",
       "      <td>1</td>\n",
       "    </tr>\n",
       "    <tr>\n",
       "      <th>1</th>\n",
       "      <td>1</td>\n",
       "      <td>2021-05-06</td>\n",
       "      <td>OUT</td>\n",
       "      <td>NaN</td>\n",
       "      <td>72.0</td>\n",
       "      <td>2021-04-28 21:43:59</td>\n",
       "      <td>2</td>\n",
       "    </tr>\n",
       "    <tr>\n",
       "      <th>2</th>\n",
       "      <td>2</td>\n",
       "      <td>2025-05-31</td>\n",
       "      <td>INP</td>\n",
       "      <td>XX999</td>\n",
       "      <td>234.0</td>\n",
       "      <td>2025-05-12 07:25:46</td>\n",
       "      <td>3</td>\n",
       "    </tr>\n",
       "    <tr>\n",
       "      <th>3</th>\n",
       "      <td>2</td>\n",
       "      <td>2021-11-28</td>\n",
       "      <td>URG</td>\n",
       "      <td>CLIN1</td>\n",
       "      <td>44.0</td>\n",
       "      <td>2021-12-16 18:35:34</td>\n",
       "      <td>4</td>\n",
       "    </tr>\n",
       "    <tr>\n",
       "      <th>4</th>\n",
       "      <td>2</td>\n",
       "      <td>2025-03-20</td>\n",
       "      <td>NaN</td>\n",
       "      <td>MAIN</td>\n",
       "      <td>74.0</td>\n",
       "      <td>2025-03-13 04:01:51</td>\n",
       "      <td>5</td>\n",
       "    </tr>\n",
       "  </tbody>\n",
       "</table>\n",
       "</div>"
      ],
      "text/plain": [
       "   Patient_Surrogate_ID Encounter_Date Encounter_Type_Code Location_Code  \\\n",
       "0                     1     2021-12-16                 INP         HOSP2   \n",
       "1                     1     2021-05-06                 OUT           NaN   \n",
       "2                     2     2025-05-31                 INP         XX999   \n",
       "3                     2     2021-11-28                 URG         CLIN1   \n",
       "4                     2     2025-03-20                 NaN          MAIN   \n",
       "\n",
       "   Attending_Prov_ID Last_Update_Timestamp  Encounter_ID  \n",
       "0              211.0   2022-01-11 21:52:28             1  \n",
       "1               72.0   2021-04-28 21:43:59             2  \n",
       "2              234.0   2025-05-12 07:25:46             3  \n",
       "3               44.0   2021-12-16 18:35:34             4  \n",
       "4               74.0   2025-03-13 04:01:51             5  "
      ]
     },
     "execution_count": 35,
     "metadata": {},
     "output_type": "execute_result"
    }
   ],
   "source": [
    "data_encounters.head()"
   ]
  },
  {
   "cell_type": "code",
   "execution_count": 36,
   "id": "c754e120",
   "metadata": {},
   "outputs": [
    {
     "name": "stdout",
     "output_type": "stream",
     "text": [
      "<class 'pandas.core.frame.DataFrame'>\n",
      "RangeIndex: 249811 entries, 0 to 249810\n",
      "Data columns (total 7 columns):\n",
      " #   Column                 Non-Null Count   Dtype  \n",
      "---  ------                 --------------   -----  \n",
      " 0   Patient_Surrogate_ID   249811 non-null  int64  \n",
      " 1   Encounter_Date         249811 non-null  object \n",
      " 2   Encounter_Type_Code    208223 non-null  object \n",
      " 3   Location_Code          208119 non-null  object \n",
      " 4   Attending_Prov_ID      249299 non-null  float64\n",
      " 5   Last_Update_Timestamp  249811 non-null  object \n",
      " 6   Encounter_ID           249811 non-null  int64  \n",
      "dtypes: float64(1), int64(2), object(4)\n",
      "memory usage: 13.3+ MB\n"
     ]
    }
   ],
   "source": [
    "data_encounters.info()"
   ]
  },
  {
   "cell_type": "code",
   "execution_count": 37,
   "id": "42d8aeed",
   "metadata": {},
   "outputs": [],
   "source": [
    "data_encounters['Last_Update_Timestamp'] = pd.to_datetime(data_encounters['Last_Update_Timestamp'])\n",
    "data_encounters['Encounter_Date'] = pd.to_datetime(data_encounters['Encounter_Date'])\n",
    "data_encounters['Patient_Surrogate_ID'] = data_encounters['Patient_Surrogate_ID'].astype('int64')"
   ]
  },
  {
   "cell_type": "code",
   "execution_count": 38,
   "id": "9d70c9a3",
   "metadata": {},
   "outputs": [
    {
     "data": {
      "text/plain": [
       "Patient_Surrogate_ID         0\n",
       "Encounter_Date               0\n",
       "Encounter_Type_Code      41588\n",
       "Location_Code            41692\n",
       "Attending_Prov_ID          512\n",
       "Last_Update_Timestamp        0\n",
       "Encounter_ID                 0\n",
       "dtype: int64"
      ]
     },
     "execution_count": 38,
     "metadata": {},
     "output_type": "execute_result"
    }
   ],
   "source": [
    "data_encounters.isnull().sum()"
   ]
  },
  {
   "cell_type": "code",
   "execution_count": 39,
   "id": "353f4495",
   "metadata": {},
   "outputs": [],
   "source": [
    "data_encounters['Encounter_Type_Code'].fillna('Missing', inplace=True)\n",
    "data_encounters['Location_Code'].fillna('Missing', inplace=True)"
   ]
  },
  {
   "cell_type": "code",
   "execution_count": 40,
   "id": "eb6e19e8",
   "metadata": {},
   "outputs": [
    {
     "data": {
      "text/plain": [
       "array(['INP', 'OUT', 'URG', 'Missing', 'ER', 'INVALID'], dtype=object)"
      ]
     },
     "execution_count": 40,
     "metadata": {},
     "output_type": "execute_result"
    }
   ],
   "source": [
    "data_encounters['Encounter_Type_Code'].unique()"
   ]
  },
  {
   "cell_type": "code",
   "execution_count": 41,
   "id": "f0f64874",
   "metadata": {},
   "outputs": [
    {
     "data": {
      "text/plain": [
       "array(['HOSP2', 'Missing', 'XX999', 'CLIN1', 'MAIN', 'ER1'], dtype=object)"
      ]
     },
     "execution_count": 41,
     "metadata": {},
     "output_type": "execute_result"
    }
   ],
   "source": [
    "data_encounters['Location_Code'].unique()"
   ]
  },
  {
   "cell_type": "code",
   "execution_count": 42,
   "id": "9fa6d233",
   "metadata": {},
   "outputs": [
    {
     "data": {
      "text/plain": [
       "array([     1,      2,      3, ..., 249809, 249810, 249811])"
      ]
     },
     "execution_count": 42,
     "metadata": {},
     "output_type": "execute_result"
    }
   ],
   "source": [
    "data_encounters['Encounter_ID'].unique()"
   ]
  },
  {
   "cell_type": "markdown",
   "id": "fb7a502e",
   "metadata": {},
   "source": [
    "| **Column Name**             | **Description**                                                                   |\n",
    "| --------------------------- | --------------------------------------------------------------------------------- |\n",
    "| **Patient\\_Surrogate\\_ID**  | A unique internal ID that represents a de-identified patient in the system.       |\n",
    "| **Encounter\\_Date**         | The date when the patient’s healthcare encounter (visit/admission) occurred.      |\n",
    "| **Encounter\\_Type\\_Code**   | A code that indicates the type of encounter (e.g., outpatient, inpatient, ER).    |\n",
    "| **Location\\_Code**          | A code that represents the facility or site where the encounter took place.       |\n",
    "| **Attending\\_Prov\\_ID**     | A reference ID to the healthcare provider (doctor) responsible for the encounter. |\n",
    "| **Last\\_Update\\_Timestamp** | The date and time when this encounter record was last modified or updated.        |\n",
    "| **Encounter\\_ID**           | A unique ID for the encounter/visit itself, used as the primary key.              |\n"
   ]
  },
  {
   "cell_type": "markdown",
   "id": "abb91400",
   "metadata": {},
   "source": [
    "in data_encounters  41588 null values in Encounter_Type_Code , 41692 null values in Location_Code , 512 null values in Attending_Prov_ID & Missing values in location_code , also missing values in encouter_type_code"
   ]
  },
  {
   "cell_type": "code",
   "execution_count": 43,
   "id": "772675fb",
   "metadata": {},
   "outputs": [
    {
     "data": {
      "text/html": [
       "<div>\n",
       "<style scoped>\n",
       "    .dataframe tbody tr th:only-of-type {\n",
       "        vertical-align: middle;\n",
       "    }\n",
       "\n",
       "    .dataframe tbody tr th {\n",
       "        vertical-align: top;\n",
       "    }\n",
       "\n",
       "    .dataframe thead th {\n",
       "        text-align: right;\n",
       "    }\n",
       "</style>\n",
       "<table border=\"1\" class=\"dataframe\">\n",
       "  <thead>\n",
       "    <tr style=\"text-align: right;\">\n",
       "      <th></th>\n",
       "      <th>ICD10_Code</th>\n",
       "      <th>Description</th>\n",
       "    </tr>\n",
       "  </thead>\n",
       "  <tbody>\n",
       "    <tr>\n",
       "      <th>0</th>\n",
       "      <td>J4520</td>\n",
       "      <td>The ever born water.</td>\n",
       "    </tr>\n",
       "    <tr>\n",
       "      <th>1</th>\n",
       "      <td>I10</td>\n",
       "      <td>Call pick mother fine.</td>\n",
       "    </tr>\n",
       "    <tr>\n",
       "      <th>2</th>\n",
       "      <td>E785</td>\n",
       "      <td>Long meet question democratic.</td>\n",
       "    </tr>\n",
       "    <tr>\n",
       "      <th>3</th>\n",
       "      <td>M545</td>\n",
       "      <td>Least both pattern city perhaps realize style ...</td>\n",
       "    </tr>\n",
       "    <tr>\n",
       "      <th>4</th>\n",
       "      <td>G4733</td>\n",
       "      <td>Myself fill summer.</td>\n",
       "    </tr>\n",
       "  </tbody>\n",
       "</table>\n",
       "</div>"
      ],
      "text/plain": [
       "  ICD10_Code                                        Description\n",
       "0      J4520                               The ever born water.\n",
       "1        I10                             Call pick mother fine.\n",
       "2       E785                     Long meet question democratic.\n",
       "3       M545  Least both pattern city perhaps realize style ...\n",
       "4      G4733                                Myself fill summer."
      ]
     },
     "execution_count": 43,
     "metadata": {},
     "output_type": "execute_result"
    }
   ],
   "source": [
    "data_icd10.head()"
   ]
  },
  {
   "cell_type": "code",
   "execution_count": 44,
   "id": "19ecf2a9",
   "metadata": {},
   "outputs": [
    {
     "name": "stdout",
     "output_type": "stream",
     "text": [
      "<class 'pandas.core.frame.DataFrame'>\n",
      "RangeIndex: 9 entries, 0 to 8\n",
      "Data columns (total 2 columns):\n",
      " #   Column       Non-Null Count  Dtype \n",
      "---  ------       --------------  ----- \n",
      " 0   ICD10_Code   9 non-null      object\n",
      " 1   Description  9 non-null      object\n",
      "dtypes: object(2)\n",
      "memory usage: 276.0+ bytes\n"
     ]
    }
   ],
   "source": [
    "data_icd10.info()"
   ]
  },
  {
   "cell_type": "code",
   "execution_count": 45,
   "id": "fe65ff82",
   "metadata": {},
   "outputs": [
    {
     "data": {
      "text/plain": [
       "ICD10_Code     0\n",
       "Description    0\n",
       "dtype: int64"
      ]
     },
     "execution_count": 45,
     "metadata": {},
     "output_type": "execute_result"
    }
   ],
   "source": [
    "data_icd10.isnull().sum()"
   ]
  },
  {
   "cell_type": "code",
   "execution_count": 46,
   "id": "c3102c1d",
   "metadata": {},
   "outputs": [
    {
     "data": {
      "text/plain": [
       "np.int64(0)"
      ]
     },
     "execution_count": 46,
     "metadata": {},
     "output_type": "execute_result"
    }
   ],
   "source": [
    "data_icd10.duplicated().sum()"
   ]
  },
  {
   "cell_type": "code",
   "execution_count": 47,
   "id": "78ab1fd0",
   "metadata": {},
   "outputs": [
    {
     "data": {
      "text/plain": [
       "array(['J4520', 'I10', 'E785', 'M545', 'G4733', 'K219', 'N390', 'R5383',\n",
       "       'X999'], dtype=object)"
      ]
     },
     "execution_count": 47,
     "metadata": {},
     "output_type": "execute_result"
    }
   ],
   "source": [
    "data_icd10['ICD10_Code'].unique()"
   ]
  },
  {
   "cell_type": "code",
   "execution_count": 48,
   "id": "6809e78c",
   "metadata": {},
   "outputs": [
    {
     "data": {
      "text/plain": [
       "array(['The ever born water.', 'Call pick mother fine.',\n",
       "       'Long meet question democratic.',\n",
       "       'Least both pattern city perhaps realize style less.',\n",
       "       'Myself fill summer.',\n",
       "       'Training notice after organization special possible.',\n",
       "       'Military your drive note even authority catch.',\n",
       "       'Project pay anything business administration.',\n",
       "       'Fact back mind along explain.'], dtype=object)"
      ]
     },
     "execution_count": 48,
     "metadata": {},
     "output_type": "execute_result"
    }
   ],
   "source": [
    "data_icd10['Description'].unique()"
   ]
  },
  {
   "cell_type": "code",
   "execution_count": 49,
   "id": "0d57a984",
   "metadata": {},
   "outputs": [
    {
     "name": "stdout",
     "output_type": "stream",
     "text": [
      "  ICD10_Code                                  Wrong_Description  \\\n",
      "0      J4520                               The ever born water.   \n",
      "1        I10                             Call pick mother fine.   \n",
      "2       E785                     Long meet question democratic.   \n",
      "3       M545  Least both pattern city perhaps realize style ...   \n",
      "4      G4733                                Myself fill summer.   \n",
      "5       K219  Training notice after organization special pos...   \n",
      "6       N390     Military your drive note even authority catch.   \n",
      "7      R5383      Project pay anything business administration.   \n",
      "8       X999                      Fact back mind along explain.   \n",
      "\n",
      "                                 Correct_Description  \n",
      "0            Mild intermittent asthma, uncomplicated  \n",
      "1                   Essential (primary) hypertension  \n",
      "2                        Hyperlipidemia, unspecified  \n",
      "3                                      Low back pain  \n",
      "4        Obstructive sleep apnea (adult) (pediatric)  \n",
      "5  Gastro-esophageal reflux disease without esoph...  \n",
      "6        Urinary tract infection, site not specified  \n",
      "7                                      Other fatigue  \n",
      "8                                       Invalid Code  \n"
     ]
    }
   ],
   "source": [
    "# Original data\n",
    "icd_codes = ['J4520', 'I10', 'E785', 'M545', 'G4733', 'K219', 'N390', 'R5383', 'X999']\n",
    "wrong_descriptions = [\n",
    "    'The ever born water.',\n",
    "    'Call pick mother fine.',\n",
    "    'Long meet question democratic.',\n",
    "    'Least both pattern city perhaps realize style less.',\n",
    "    'Myself fill summer.',\n",
    "    'Training notice after organization special possible.',\n",
    "    'Military your drive note even authority catch.',\n",
    "    'Project pay anything business administration.',\n",
    "    'Fact back mind along explain.'\n",
    "]\n",
    "\n",
    "# DataFrame with wrong descriptions\n",
    "data_icd10 = pd.DataFrame({'ICD10_Code': icd_codes, 'Wrong_Description': wrong_descriptions})\n",
    "\n",
    "# Dictionary of correct ICD-10 descriptions\n",
    "correct_icd_descriptions = {\n",
    "    'J4520': 'Mild intermittent asthma, uncomplicated',\n",
    "    'I10': 'Essential (primary) hypertension',\n",
    "    'E785': 'Hyperlipidemia, unspecified',\n",
    "    'M545': 'Low back pain',\n",
    "    'G4733': 'Obstructive sleep apnea (adult) (pediatric)',\n",
    "    'K219': 'Gastro-esophageal reflux disease without esophagitis',\n",
    "    'N390': 'Urinary tract infection, site not specified',\n",
    "    'R5383': 'Other fatigue',\n",
    "    'X999': 'Invalid Code'\n",
    "}\n",
    "\n",
    "# Replace wrong descriptions with correct ones\n",
    "data_icd10['Correct_Description'] = data_icd10['ICD10_Code'].map(correct_icd_descriptions)\n",
    "\n",
    "# Show result\n",
    "print(data_icd10)\n"
   ]
  },
  {
   "cell_type": "code",
   "execution_count": 50,
   "id": "bd4affc4",
   "metadata": {},
   "outputs": [],
   "source": [
    "data_icd10.drop('Wrong_Description', axis=1, inplace=True)\n",
    "data_icd10.rename(columns={'Correct_Description': 'Description'}, inplace=True)"
   ]
  },
  {
   "cell_type": "code",
   "execution_count": 51,
   "id": "7a276499",
   "metadata": {},
   "outputs": [
    {
     "data": {
      "text/html": [
       "<div>\n",
       "<style scoped>\n",
       "    .dataframe tbody tr th:only-of-type {\n",
       "        vertical-align: middle;\n",
       "    }\n",
       "\n",
       "    .dataframe tbody tr th {\n",
       "        vertical-align: top;\n",
       "    }\n",
       "\n",
       "    .dataframe thead th {\n",
       "        text-align: right;\n",
       "    }\n",
       "</style>\n",
       "<table border=\"1\" class=\"dataframe\">\n",
       "  <thead>\n",
       "    <tr style=\"text-align: right;\">\n",
       "      <th></th>\n",
       "      <th>ICD10_Code</th>\n",
       "      <th>Description</th>\n",
       "    </tr>\n",
       "  </thead>\n",
       "  <tbody>\n",
       "    <tr>\n",
       "      <th>0</th>\n",
       "      <td>J4520</td>\n",
       "      <td>Mild intermittent asthma, uncomplicated</td>\n",
       "    </tr>\n",
       "    <tr>\n",
       "      <th>1</th>\n",
       "      <td>I10</td>\n",
       "      <td>Essential (primary) hypertension</td>\n",
       "    </tr>\n",
       "    <tr>\n",
       "      <th>2</th>\n",
       "      <td>E785</td>\n",
       "      <td>Hyperlipidemia, unspecified</td>\n",
       "    </tr>\n",
       "    <tr>\n",
       "      <th>3</th>\n",
       "      <td>M545</td>\n",
       "      <td>Low back pain</td>\n",
       "    </tr>\n",
       "    <tr>\n",
       "      <th>4</th>\n",
       "      <td>G4733</td>\n",
       "      <td>Obstructive sleep apnea (adult) (pediatric)</td>\n",
       "    </tr>\n",
       "  </tbody>\n",
       "</table>\n",
       "</div>"
      ],
      "text/plain": [
       "  ICD10_Code                                  Description\n",
       "0      J4520      Mild intermittent asthma, uncomplicated\n",
       "1        I10             Essential (primary) hypertension\n",
       "2       E785                  Hyperlipidemia, unspecified\n",
       "3       M545                                Low back pain\n",
       "4      G4733  Obstructive sleep apnea (adult) (pediatric)"
      ]
     },
     "execution_count": 51,
     "metadata": {},
     "output_type": "execute_result"
    }
   ],
   "source": [
    "data_icd10.head()"
   ]
  },
  {
   "cell_type": "markdown",
   "id": "048d7743",
   "metadata": {},
   "source": [
    "| **Column Name** |**Description**                                                                                                                                                                                                                                                                                                                             |\n",
    "| --------------- | ------------------------------------------------------------------------------------------------------------------------------------------------------------------------------------------------------------------------------------------------------------------------------------------------------------------------------------------- |\n",
    "| `ICD10_Code`    | The **International Classification of Diseases, 10th Revision (ICD-10)** code assigned to a diagnosis or condition. These codes are alphanumeric and standardized globally for recording diseases, symptoms, abnormal findings, and external causes of injury or diseases (e.g., `E11.9` = Type 2 diabetes mellitus without complications). |\n",
    "| `Description`   | A **textual explanation** of the medical diagnosis or condition represented by the ICD-10 code. This description is used by analysts and clinicians to understand the meaning of the code without referencing external materials.                                                                                                           |\n"
   ]
  },
  {
   "cell_type": "markdown",
   "id": "db478ef7",
   "metadata": {},
   "source": [
    "data_icd10   no null values but changed the wrong description with the correct description "
   ]
  },
  {
   "cell_type": "code",
   "execution_count": 52,
   "id": "5098a049",
   "metadata": {},
   "outputs": [
    {
     "data": {
      "text/html": [
       "<div>\n",
       "<style scoped>\n",
       "    .dataframe tbody tr th:only-of-type {\n",
       "        vertical-align: middle;\n",
       "    }\n",
       "\n",
       "    .dataframe tbody tr th {\n",
       "        vertical-align: top;\n",
       "    }\n",
       "\n",
       "    .dataframe thead th {\n",
       "        text-align: right;\n",
       "    }\n",
       "</style>\n",
       "<table border=\"1\" class=\"dataframe\">\n",
       "  <thead>\n",
       "    <tr style=\"text-align: right;\">\n",
       "      <th></th>\n",
       "      <th>Encounter_ID</th>\n",
       "      <th>LOINC_Code</th>\n",
       "      <th>Value_Num</th>\n",
       "      <th>Value_Unit</th>\n",
       "      <th>Observation_DateTime</th>\n",
       "      <th>Last_Update_Timestamp</th>\n",
       "      <th>Observation_ID</th>\n",
       "    </tr>\n",
       "  </thead>\n",
       "  <tbody>\n",
       "    <tr>\n",
       "      <th>0</th>\n",
       "      <td>178822</td>\n",
       "      <td>2339-0</td>\n",
       "      <td>65.35</td>\n",
       "      <td>NaN</td>\n",
       "      <td>2021-05-15T05:52:30</td>\n",
       "      <td>2024-07-31T15:06:17</td>\n",
       "      <td>51712554</td>\n",
       "    </tr>\n",
       "    <tr>\n",
       "      <th>1</th>\n",
       "      <td>22402</td>\n",
       "      <td>29463-7</td>\n",
       "      <td>55.16</td>\n",
       "      <td>ng/mL</td>\n",
       "      <td>2023-05-25T10:57:15</td>\n",
       "      <td>2024-08-24T19:35:18</td>\n",
       "      <td>87124819</td>\n",
       "    </tr>\n",
       "    <tr>\n",
       "      <th>2</th>\n",
       "      <td>101533</td>\n",
       "      <td>12345D6</td>\n",
       "      <td>52.41</td>\n",
       "      <td>IU/L</td>\n",
       "      <td>2021-06-02T05:40:09</td>\n",
       "      <td>2025-03-22T15:45:06</td>\n",
       "      <td>74757586</td>\n",
       "    </tr>\n",
       "    <tr>\n",
       "      <th>3</th>\n",
       "      <td>140482</td>\n",
       "      <td>789-8</td>\n",
       "      <td>65.34</td>\n",
       "      <td>g/L</td>\n",
       "      <td>2022-05-24T18:11:56</td>\n",
       "      <td>2025-05-21T05:27:58</td>\n",
       "      <td>53937550</td>\n",
       "    </tr>\n",
       "    <tr>\n",
       "      <th>4</th>\n",
       "      <td>63017</td>\n",
       "      <td>2339-0</td>\n",
       "      <td>53.66</td>\n",
       "      <td>mg/dL</td>\n",
       "      <td>2022-02-13T13:48:59</td>\n",
       "      <td>2025-04-08T11:22:45</td>\n",
       "      <td>19321196</td>\n",
       "    </tr>\n",
       "  </tbody>\n",
       "</table>\n",
       "</div>"
      ],
      "text/plain": [
       "   Encounter_ID LOINC_Code  Value_Num Value_Unit Observation_DateTime  \\\n",
       "0        178822     2339-0      65.35        NaN  2021-05-15T05:52:30   \n",
       "1         22402    29463-7      55.16      ng/mL  2023-05-25T10:57:15   \n",
       "2        101533    12345D6      52.41       IU/L  2021-06-02T05:40:09   \n",
       "3        140482      789-8      65.34        g/L  2022-05-24T18:11:56   \n",
       "4         63017     2339-0      53.66      mg/dL  2022-02-13T13:48:59   \n",
       "\n",
       "  Last_Update_Timestamp  Observation_ID  \n",
       "0   2024-07-31T15:06:17        51712554  \n",
       "1   2024-08-24T19:35:18        87124819  \n",
       "2   2025-03-22T15:45:06        74757586  \n",
       "3   2025-05-21T05:27:58        53937550  \n",
       "4   2025-04-08T11:22:45        19321196  "
      ]
     },
     "execution_count": 52,
     "metadata": {},
     "output_type": "execute_result"
    }
   ],
   "source": [
    "data_observations.head()"
   ]
  },
  {
   "cell_type": "code",
   "execution_count": 53,
   "id": "a77fd429",
   "metadata": {},
   "outputs": [
    {
     "name": "stdout",
     "output_type": "stream",
     "text": [
      "<class 'pandas.core.frame.DataFrame'>\n",
      "RangeIndex: 50000 entries, 0 to 49999\n",
      "Data columns (total 7 columns):\n",
      " #   Column                 Non-Null Count  Dtype  \n",
      "---  ------                 --------------  -----  \n",
      " 0   Encounter_ID           50000 non-null  int64  \n",
      " 1   LOINC_Code             50000 non-null  object \n",
      " 2   Value_Num              47611 non-null  float64\n",
      " 3   Value_Unit             42369 non-null  object \n",
      " 4   Observation_DateTime   50000 non-null  object \n",
      " 5   Last_Update_Timestamp  50000 non-null  object \n",
      " 6   Observation_ID         50000 non-null  int64  \n",
      "dtypes: float64(1), int64(2), object(4)\n",
      "memory usage: 2.7+ MB\n"
     ]
    }
   ],
   "source": [
    "data_observations.info()"
   ]
  },
  {
   "cell_type": "code",
   "execution_count": 54,
   "id": "fa2e74fa",
   "metadata": {},
   "outputs": [
    {
     "data": {
      "text/plain": [
       "Encounter_ID                0\n",
       "LOINC_Code                  0\n",
       "Value_Num                2389\n",
       "Value_Unit               7631\n",
       "Observation_DateTime        0\n",
       "Last_Update_Timestamp       0\n",
       "Observation_ID              0\n",
       "dtype: int64"
      ]
     },
     "execution_count": 54,
     "metadata": {},
     "output_type": "execute_result"
    }
   ],
   "source": [
    "data_observations.isnull().sum()"
   ]
  },
  {
   "cell_type": "code",
   "execution_count": 55,
   "id": "b46f23c4",
   "metadata": {},
   "outputs": [],
   "source": [
    "data_observations['Value_Unit'].fillna('Missing', inplace=True)"
   ]
  },
  {
   "cell_type": "code",
   "execution_count": 56,
   "id": "eb519383",
   "metadata": {},
   "outputs": [
    {
     "data": {
      "text/plain": [
       "np.int64(0)"
      ]
     },
     "execution_count": 56,
     "metadata": {},
     "output_type": "execute_result"
    }
   ],
   "source": [
    "data_observations.duplicated().sum()"
   ]
  },
  {
   "cell_type": "code",
   "execution_count": 57,
   "id": "13ebc467",
   "metadata": {},
   "outputs": [],
   "source": [
    "data_observations['Observation_DateTime'] = pd.to_datetime(data_observations['Observation_DateTime'])\n",
    "data_observations['Last_Update_Timestamp'] = pd.to_datetime(data_observations['Last_Update_Timestamp'])\n",
    "data_observations['Value_Num'] = pd.to_numeric(data_observations['Value_Num'], errors='coerce')"
   ]
  },
  {
   "cell_type": "code",
   "execution_count": 58,
   "id": "ffe431e1",
   "metadata": {},
   "outputs": [
    {
     "data": {
      "text/plain": [
       "array(['2339-0', '29463-7', '12345D6', '789-8', '1w345-6', '12r45-6',\n",
       "       '6690-2', '2345-6', '1234I-6', '77889-0', 'abcde-1', '1234D-6',\n",
       "       '12345-6', '9999-A', '1234r-6', '12s45-6', '12345f6', '33914-3'],\n",
       "      dtype=object)"
      ]
     },
     "execution_count": 58,
     "metadata": {},
     "output_type": "execute_result"
    }
   ],
   "source": [
    "data_observations['LOINC_Code'].unique()"
   ]
  },
  {
   "cell_type": "markdown",
   "id": "f36fdbc5",
   "metadata": {},
   "source": [
    "| **Column Name**         | **Description**                                                                                                                                                                                                    |\n",
    "| ----------------------- | ------------------------------------------------------------------------------------------------------------------------------------------------------------------------------------------------------------------ |\n",
    "| `Encounter_ID`          | A unique identifier for the clinical encounter (e.g., hospital visit or consultation). Links this observation to a specific patient visit.                                                                         |\n",
    "| `LOINC_Code`            | A standardized code from the **LOINC** (Logical Observation Identifiers Names and Codes) system that identifies the specific lab test, measurement, or clinical observation (e.g., blood glucose, blood pressure). |\n",
    "| `Value_Num`             | The **numeric result** of the observation or lab test (e.g., 120.5 for systolic blood pressure).                                                                                                                   |\n",
    "| `Value_Unit`            | The **unit of measurement** for `Value_Num` (e.g., mg/dL, mmHg, °C). Must align with LOINC's standard units.                                                                                                       |\n",
    "| `Observation_DateTime`  | The **timestamp** when the observation was made or recorded (e.g., when the lab sample was drawn or vital sign measured).                                                                                          |\n",
    "| `Last_Update_Timestamp` | The **timestamp** of the most recent update to this record, indicating data freshness or last ETL sync.                                                                                                            |\n",
    "| `Observation_ID`        | A unique identifier for this specific observation record. Used as a primary key in the `Observation` table.                                                                                                        |\n"
   ]
  },
  {
   "cell_type": "markdown",
   "id": "053167a9",
   "metadata": {},
   "source": [
    "data_observations  no duplicates , 2389 null values in column Value_Num , 7631 null values in Value_Unit"
   ]
  },
  {
   "cell_type": "code",
   "execution_count": 59,
   "id": "b44ea722",
   "metadata": {},
   "outputs": [
    {
     "data": {
      "text/html": [
       "<div>\n",
       "<style scoped>\n",
       "    .dataframe tbody tr th:only-of-type {\n",
       "        vertical-align: middle;\n",
       "    }\n",
       "\n",
       "    .dataframe tbody tr th {\n",
       "        vertical-align: top;\n",
       "    }\n",
       "\n",
       "    .dataframe thead th {\n",
       "        text-align: right;\n",
       "    }\n",
       "</style>\n",
       "<table border=\"1\" class=\"dataframe\">\n",
       "  <thead>\n",
       "    <tr style=\"text-align: right;\">\n",
       "      <th></th>\n",
       "      <th>Patient_Hash_ID</th>\n",
       "      <th>Gender_Code</th>\n",
       "      <th>Birth_Year</th>\n",
       "      <th>Zip3_Code</th>\n",
       "      <th>Race_Ethnicity_Code</th>\n",
       "      <th>Last_Update_Timestamp</th>\n",
       "      <th>Patient_Surrogate_ID</th>\n",
       "    </tr>\n",
       "  </thead>\n",
       "  <tbody>\n",
       "    <tr>\n",
       "      <th>0</th>\n",
       "      <td>2b15b8261ea36b65b09cfbf565fbc5a1f825cc71f0e699...</td>\n",
       "      <td>X</td>\n",
       "      <td>1994.0</td>\n",
       "      <td>365</td>\n",
       "      <td>BLACK</td>\n",
       "      <td>2022-07-27 11:51:41</td>\n",
       "      <td>1</td>\n",
       "    </tr>\n",
       "    <tr>\n",
       "      <th>1</th>\n",
       "      <td>21bb9861c8c2ed9e886d2c90f253fe0b789c5d30363c06...</td>\n",
       "      <td>F</td>\n",
       "      <td>1986.0</td>\n",
       "      <td>891</td>\n",
       "      <td>OTHER</td>\n",
       "      <td>2025-02-15 00:52:39</td>\n",
       "      <td>2</td>\n",
       "    </tr>\n",
       "    <tr>\n",
       "      <th>2</th>\n",
       "      <td>98061dd8dc943f1fc1a99de3c507309fd7566952ee9092...</td>\n",
       "      <td>M</td>\n",
       "      <td>1904.0</td>\n",
       "      <td>oLIS</td>\n",
       "      <td>NaN</td>\n",
       "      <td>2020-09-27 05:14:34</td>\n",
       "      <td>3</td>\n",
       "    </tr>\n",
       "    <tr>\n",
       "      <th>3</th>\n",
       "      <td>5715d065aaee01497776a3485748a0d0789acbb606a23d...</td>\n",
       "      <td>NaN</td>\n",
       "      <td>1957.0</td>\n",
       "      <td>794</td>\n",
       "      <td>UNKNOWN</td>\n",
       "      <td>2020-09-17 02:03:59</td>\n",
       "      <td>4</td>\n",
       "    </tr>\n",
       "    <tr>\n",
       "      <th>4</th>\n",
       "      <td>e8c05962d833a285d12dc6cea403ca9eff942f6385eb65...</td>\n",
       "      <td>A</td>\n",
       "      <td>NaN</td>\n",
       "      <td>924</td>\n",
       "      <td>NaN</td>\n",
       "      <td>2025-02-13 17:10:59</td>\n",
       "      <td>5</td>\n",
       "    </tr>\n",
       "  </tbody>\n",
       "</table>\n",
       "</div>"
      ],
      "text/plain": [
       "                                     Patient_Hash_ID Gender_Code  Birth_Year  \\\n",
       "0  2b15b8261ea36b65b09cfbf565fbc5a1f825cc71f0e699...           X      1994.0   \n",
       "1  21bb9861c8c2ed9e886d2c90f253fe0b789c5d30363c06...           F      1986.0   \n",
       "2  98061dd8dc943f1fc1a99de3c507309fd7566952ee9092...           M      1904.0   \n",
       "3  5715d065aaee01497776a3485748a0d0789acbb606a23d...         NaN      1957.0   \n",
       "4  e8c05962d833a285d12dc6cea403ca9eff942f6385eb65...           A         NaN   \n",
       "\n",
       "  Zip3_Code Race_Ethnicity_Code Last_Update_Timestamp  Patient_Surrogate_ID  \n",
       "0       365               BLACK   2022-07-27 11:51:41                     1  \n",
       "1       891               OTHER   2025-02-15 00:52:39                     2  \n",
       "2      oLIS                 NaN   2020-09-27 05:14:34                     3  \n",
       "3       794             UNKNOWN   2020-09-17 02:03:59                     4  \n",
       "4       924                 NaN   2025-02-13 17:10:59                     5  "
      ]
     },
     "execution_count": 59,
     "metadata": {},
     "output_type": "execute_result"
    }
   ],
   "source": [
    "data_patients.head()"
   ]
  },
  {
   "cell_type": "code",
   "execution_count": 60,
   "id": "52747814",
   "metadata": {},
   "outputs": [
    {
     "name": "stdout",
     "output_type": "stream",
     "text": [
      "<class 'pandas.core.frame.DataFrame'>\n",
      "RangeIndex: 50000 entries, 0 to 49999\n",
      "Data columns (total 7 columns):\n",
      " #   Column                 Non-Null Count  Dtype  \n",
      "---  ------                 --------------  -----  \n",
      " 0   Patient_Hash_ID        50000 non-null  object \n",
      " 1   Gender_Code            42909 non-null  object \n",
      " 2   Birth_Year             48014 non-null  float64\n",
      " 3   Zip3_Code              50000 non-null  object \n",
      " 4   Race_Ethnicity_Code    42808 non-null  object \n",
      " 5   Last_Update_Timestamp  50000 non-null  object \n",
      " 6   Patient_Surrogate_ID   50000 non-null  int64  \n",
      "dtypes: float64(1), int64(1), object(5)\n",
      "memory usage: 2.7+ MB\n"
     ]
    }
   ],
   "source": [
    "data_patients.info()"
   ]
  },
  {
   "cell_type": "code",
   "execution_count": 61,
   "id": "03bf0ad2",
   "metadata": {},
   "outputs": [
    {
     "data": {
      "text/plain": [
       "Patient_Hash_ID             0\n",
       "Gender_Code              7091\n",
       "Birth_Year               1986\n",
       "Zip3_Code                   0\n",
       "Race_Ethnicity_Code      7192\n",
       "Last_Update_Timestamp       0\n",
       "Patient_Surrogate_ID        0\n",
       "dtype: int64"
      ]
     },
     "execution_count": 61,
     "metadata": {},
     "output_type": "execute_result"
    }
   ],
   "source": [
    "data_patients.isnull().sum()"
   ]
  },
  {
   "cell_type": "code",
   "execution_count": 62,
   "id": "8fd973cb",
   "metadata": {},
   "outputs": [
    {
     "data": {
      "text/plain": [
       "np.int64(0)"
      ]
     },
     "execution_count": 62,
     "metadata": {},
     "output_type": "execute_result"
    }
   ],
   "source": [
    "data_patients.duplicated().sum()"
   ]
  },
  {
   "cell_type": "code",
   "execution_count": 63,
   "id": "8f37fbd9",
   "metadata": {},
   "outputs": [],
   "source": [
    "data_patients['Last_Update_Timestamp'] = pd.to_datetime(data_patients['Last_Update_Timestamp'])"
   ]
  },
  {
   "cell_type": "code",
   "execution_count": 64,
   "id": "f4e17712",
   "metadata": {},
   "outputs": [
    {
     "data": {
      "text/plain": [
       "array(['X', 'F', 'M', nan, 'A', 'U', 'O'], dtype=object)"
      ]
     },
     "execution_count": 64,
     "metadata": {},
     "output_type": "execute_result"
    }
   ],
   "source": [
    "data_patients['Gender_Code'].unique()"
   ]
  },
  {
   "cell_type": "code",
   "execution_count": 65,
   "id": "422c47bb",
   "metadata": {},
   "outputs": [
    {
     "data": {
      "text/plain": [
       "array([1994., 1986., 1904., 1957.,   nan, 1919., 1948., 2003., 1929.,\n",
       "       1912., 1920., 2019., 1968., 2018., 2007., 2020., 1963., 1917.,\n",
       "       1974., 1914., 1976., 1967., 1987., 1998., 1958., 1925., 1999.,\n",
       "       1902., 1930., 1962., 1916., 2011., 1988., 1983., 1928., 1975.,\n",
       "       1965., 2000., 1984., 1993., 1951., 1924., 1935., 2010., 1969.,\n",
       "       1921., 2015., 1933., 1989., 1906., 1907., 1979., 1940., 1927.,\n",
       "       2012., 1901., 1913., 1926., 1981., 1956., 2006., 1905., 1945.,\n",
       "       1995., 2002., 2001., 1955., 2025., 1946., 1985., 1910., 1911.,\n",
       "       1953., 1949., 1900., 1966., 1915., 1971., 1992., 1909., 2014.,\n",
       "       1942., 1941., 2021., 1972., 1947., 1991., 1931., 1944., 1982.,\n",
       "       2023., 1934., 1978., 1943., 1960., 1970., 1932., 1997., 1937.,\n",
       "       1961., 1938., 1977., 1922., 1923., 2024., 1939., 2009., 2013.,\n",
       "       1990., 1959., 1954., 2016., 1936., 1950., 2005., 1908., 1964.,\n",
       "       2008., 2004., 2022., 1918., 1973., 1903., 1952., 1996., 2017.,\n",
       "       1980.])"
      ]
     },
     "execution_count": 65,
     "metadata": {},
     "output_type": "execute_result"
    }
   ],
   "source": [
    "data_patients['Birth_Year'].unique()"
   ]
  },
  {
   "cell_type": "code",
   "execution_count": 66,
   "id": "78cd088c",
   "metadata": {},
   "outputs": [],
   "source": [
    "data_patients['Birth_Year'] = pd.to_numeric(data_patients['Birth_Year'], errors='coerce')"
   ]
  },
  {
   "cell_type": "code",
   "execution_count": 67,
   "id": "0ef7716b",
   "metadata": {},
   "outputs": [
    {
     "data": {
      "text/plain": [
       "array(['BLACK', 'OTHER', nan, 'UNKNOWN', 'WHITE', 'HISP', 'ASIAN'],\n",
       "      dtype=object)"
      ]
     },
     "execution_count": 67,
     "metadata": {},
     "output_type": "execute_result"
    }
   ],
   "source": [
    "data_patients['Race_Ethnicity_Code'].unique()"
   ]
  },
  {
   "cell_type": "code",
   "execution_count": 68,
   "id": "03b12376",
   "metadata": {},
   "outputs": [],
   "source": [
    "data_patients['Race_Ethnicity_Code'].fillna('Missing', inplace=True)\n",
    "data_patients['Gender_Code'].fillna('Missing', inplace=True)"
   ]
  },
  {
   "cell_type": "markdown",
   "id": "6b405374",
   "metadata": {},
   "source": [
    "data_patients  no duplicates , with the following nulls in the following columns \n",
    "Gender_Code              7091 \"Filled with Missing\"\n",
    "Birth_Year               1986\n",
    "Race_Ethnicity_Code      7192 \"Filled with Missing\""
   ]
  },
  {
   "cell_type": "markdown",
   "id": "b9799c49",
   "metadata": {},
   "source": [
    "| **Column Name**         | **Description**                                                                                                                                                                          |\n",
    "| ----------------------- | ---------------------------------------------------------------------------------------------------------------------------------------------------------------------------------------- |\n",
    "| `Patient_Hash_ID`       | A **hashed (pseudonymized)** identifier for the patient, used to protect privacy.                                                                                                        |\n",
    "| `Gender_Code`           | Encoded gender value (e.g., `'M'` = Male, `'F'` = Female, `'O'` = Other, `'U'` = Unknown).                                                                                               |\n",
    "| `Birth_Year`            | The patient's year of birth (e.g., `1985`). Full birthdate is excluded for privacy.                                                                                                      |\n",
    "| `Zip3_Code`             | First three digits of the patient's postal ZIP code, to limit geographic identifiability.                                                                                                |\n",
    "| `Race_Ethnicity_Code`   | Encoded race/ethnicity category (e.g., `'W'` = White, `'B'` = Black, `'A'` = Asian, etc.).                                                                                               |\n",
    "| `Last_Update_Timestamp` | The timestamp when the patient record was last updated in the system.                                                                                                                    |\n",
    "| `Patient_Surrogate_ID`  | An internal **primary key** (auto-incremented) used for database joins and indexing.                                                                                                     |\n"
   ]
  },
  {
   "cell_type": "code",
   "execution_count": 69,
   "id": "9bdabc2f",
   "metadata": {},
   "outputs": [
    {
     "data": {
      "text/html": [
       "<div>\n",
       "<style scoped>\n",
       "    .dataframe tbody tr th:only-of-type {\n",
       "        vertical-align: middle;\n",
       "    }\n",
       "\n",
       "    .dataframe tbody tr th {\n",
       "        vertical-align: top;\n",
       "    }\n",
       "\n",
       "    .dataframe thead th {\n",
       "        text-align: right;\n",
       "    }\n",
       "</style>\n",
       "<table border=\"1\" class=\"dataframe\">\n",
       "  <thead>\n",
       "    <tr style=\"text-align: right;\">\n",
       "      <th></th>\n",
       "      <th>Practitioner_Hash_ID</th>\n",
       "      <th>Specialty_Code</th>\n",
       "      <th>Last_Update_Timestamp</th>\n",
       "      <th>Practitioner_ID</th>\n",
       "    </tr>\n",
       "  </thead>\n",
       "  <tbody>\n",
       "    <tr>\n",
       "      <th>0</th>\n",
       "      <td>fde264e4768d7a98bb597b0312c7007c35773278b3af5d...</td>\n",
       "      <td>NaN</td>\n",
       "      <td>2025-04-26 08:04:54</td>\n",
       "      <td>1</td>\n",
       "    </tr>\n",
       "    <tr>\n",
       "      <th>1</th>\n",
       "      <td>378ff07358b0d5d1834b9f05b290ccbe67adf8d79c8fbb...</td>\n",
       "      <td>ONC</td>\n",
       "      <td>2021-05-06 09:54:55</td>\n",
       "      <td>2</td>\n",
       "    </tr>\n",
       "    <tr>\n",
       "      <th>2</th>\n",
       "      <td>c83a20747e76cdaacf5865cae590625fdc235ad959a3a8...</td>\n",
       "      <td>NaN</td>\n",
       "      <td>2024-07-02 09:01:16</td>\n",
       "      <td>3</td>\n",
       "    </tr>\n",
       "    <tr>\n",
       "      <th>3</th>\n",
       "      <td>c11017dd40d97f65e9bb5b5d0a2bb1cace1388167b1221...</td>\n",
       "      <td>SURG</td>\n",
       "      <td>2021-09-11 13:16:23</td>\n",
       "      <td>4</td>\n",
       "    </tr>\n",
       "    <tr>\n",
       "      <th>4</th>\n",
       "      <td>db47a2058bed29c19fe06edecd1e63bdd5b8c7c7334420...</td>\n",
       "      <td>PCP</td>\n",
       "      <td>2024-01-13 16:17:12</td>\n",
       "      <td>5</td>\n",
       "    </tr>\n",
       "  </tbody>\n",
       "</table>\n",
       "</div>"
      ],
      "text/plain": [
       "                                Practitioner_Hash_ID Specialty_Code  \\\n",
       "0  fde264e4768d7a98bb597b0312c7007c35773278b3af5d...            NaN   \n",
       "1  378ff07358b0d5d1834b9f05b290ccbe67adf8d79c8fbb...            ONC   \n",
       "2  c83a20747e76cdaacf5865cae590625fdc235ad959a3a8...            NaN   \n",
       "3  c11017dd40d97f65e9bb5b5d0a2bb1cace1388167b1221...           SURG   \n",
       "4  db47a2058bed29c19fe06edecd1e63bdd5b8c7c7334420...            PCP   \n",
       "\n",
       "  Last_Update_Timestamp  Practitioner_ID  \n",
       "0   2025-04-26 08:04:54                1  \n",
       "1   2021-05-06 09:54:55                2  \n",
       "2   2024-07-02 09:01:16                3  \n",
       "3   2021-09-11 13:16:23                4  \n",
       "4   2024-01-13 16:17:12                5  "
      ]
     },
     "execution_count": 69,
     "metadata": {},
     "output_type": "execute_result"
    }
   ],
   "source": [
    "data_practitioners.head()"
   ]
  },
  {
   "cell_type": "code",
   "execution_count": 70,
   "id": "21768477",
   "metadata": {},
   "outputs": [
    {
     "name": "stdout",
     "output_type": "stream",
     "text": [
      "<class 'pandas.core.frame.DataFrame'>\n",
      "RangeIndex: 500 entries, 0 to 499\n",
      "Data columns (total 4 columns):\n",
      " #   Column                 Non-Null Count  Dtype \n",
      "---  ------                 --------------  ----- \n",
      " 0   Practitioner_Hash_ID   500 non-null    object\n",
      " 1   Specialty_Code         434 non-null    object\n",
      " 2   Last_Update_Timestamp  500 non-null    object\n",
      " 3   Practitioner_ID        500 non-null    int64 \n",
      "dtypes: int64(1), object(3)\n",
      "memory usage: 15.8+ KB\n"
     ]
    }
   ],
   "source": [
    "data_practitioners.info()"
   ]
  },
  {
   "cell_type": "code",
   "execution_count": 71,
   "id": "52fe5c97",
   "metadata": {},
   "outputs": [
    {
     "data": {
      "text/plain": [
       "Practitioner_Hash_ID      0\n",
       "Specialty_Code           66\n",
       "Last_Update_Timestamp     0\n",
       "Practitioner_ID           0\n",
       "dtype: int64"
      ]
     },
     "execution_count": 71,
     "metadata": {},
     "output_type": "execute_result"
    }
   ],
   "source": [
    "data_practitioners.isnull().sum()"
   ]
  },
  {
   "cell_type": "code",
   "execution_count": 72,
   "id": "7c134f2d",
   "metadata": {},
   "outputs": [
    {
     "data": {
      "text/plain": [
       "np.int64(0)"
      ]
     },
     "execution_count": 72,
     "metadata": {},
     "output_type": "execute_result"
    }
   ],
   "source": [
    "data_practitioners.duplicated().sum()"
   ]
  },
  {
   "cell_type": "code",
   "execution_count": 73,
   "id": "2078c90e",
   "metadata": {},
   "outputs": [],
   "source": [
    "data_practitioners['Last_Update_Timestamp'] = pd.to_datetime(data_practitioners['Last_Update_Timestamp'])"
   ]
  },
  {
   "cell_type": "code",
   "execution_count": 74,
   "id": "84ec7fe2",
   "metadata": {},
   "outputs": [
    {
     "data": {
      "text/plain": [
       "array([nan, 'ONC', 'SURG', 'PCP', 'UNKNOWN', 'CARD', 'ER'], dtype=object)"
      ]
     },
     "execution_count": 74,
     "metadata": {},
     "output_type": "execute_result"
    }
   ],
   "source": [
    "data_practitioners['Specialty_Code'].unique()"
   ]
  },
  {
   "cell_type": "code",
   "execution_count": 75,
   "id": "2a794f80",
   "metadata": {},
   "outputs": [],
   "source": [
    "data_practitioners['Specialty_Code'].fillna('Missing', inplace=True)"
   ]
  },
  {
   "cell_type": "markdown",
   "id": "e460a3f8",
   "metadata": {},
   "source": [
    "| **Column Name**         | **Description**                                                                                                                       |\n",
    "| ----------------------- | ------------------------------------------------------------------------------------------------------------------------------------- |\n",
    "| `Practitioner_ID`       | A unique surrogate key (auto-incremented) used to identify each practitioner internally.                                              |\n",
    "| `Practitioner_Hash_ID`  | A pseudonymized, hashed version of the practitioner's real identifier (e.g., NPI) used to preserve privacy while allowing linkage.    |\n",
    "| `Specialty_Code`        | A code representing the practitioner's clinical specialty (e.g., cardiology, pediatrics). May refer to a lookup table for full names. |\n",
    "| `Last_Update_Timestamp` | The date and time when this practitioner's record was last modified, used for data version control and audits.                        |\n"
   ]
  },
  {
   "cell_type": "markdown",
   "id": "807eebc3",
   "metadata": {},
   "source": [
    "data_practitioners No duplicates , 66 null values in Specialty_Code filled with missing"
   ]
  },
  {
   "cell_type": "code",
   "execution_count": 76,
   "id": "7219e60c",
   "metadata": {},
   "outputs": [
    {
     "data": {
      "text/html": [
       "<div>\n",
       "<style scoped>\n",
       "    .dataframe tbody tr th:only-of-type {\n",
       "        vertical-align: middle;\n",
       "    }\n",
       "\n",
       "    .dataframe tbody tr th {\n",
       "        vertical-align: top;\n",
       "    }\n",
       "\n",
       "    .dataframe thead th {\n",
       "        text-align: right;\n",
       "    }\n",
       "</style>\n",
       "<table border=\"1\" class=\"dataframe\">\n",
       "  <thead>\n",
       "    <tr style=\"text-align: right;\">\n",
       "      <th></th>\n",
       "      <th>Encounter_ID</th>\n",
       "      <th>CPT_Code</th>\n",
       "      <th>Procedure_DateTime</th>\n",
       "      <th>Last_Update_Timestamp</th>\n",
       "      <th>Procedure_ID</th>\n",
       "    </tr>\n",
       "  </thead>\n",
       "  <tbody>\n",
       "    <tr>\n",
       "      <th>0</th>\n",
       "      <td>1</td>\n",
       "      <td>80053</td>\n",
       "      <td>2021-12-16</td>\n",
       "      <td>2021-12-22 04:36:10</td>\n",
       "      <td>1</td>\n",
       "    </tr>\n",
       "    <tr>\n",
       "      <th>1</th>\n",
       "      <td>1</td>\n",
       "      <td>81002</td>\n",
       "      <td>2021-12-16</td>\n",
       "      <td>2021-12-22 10:51:41</td>\n",
       "      <td>2</td>\n",
       "    </tr>\n",
       "    <tr>\n",
       "      <th>2</th>\n",
       "      <td>1</td>\n",
       "      <td>99213</td>\n",
       "      <td>2021-12-16</td>\n",
       "      <td>2021-12-12 23:34:58</td>\n",
       "      <td>3</td>\n",
       "    </tr>\n",
       "    <tr>\n",
       "      <th>3</th>\n",
       "      <td>2</td>\n",
       "      <td>93000</td>\n",
       "      <td>2021-05-06</td>\n",
       "      <td>2021-05-07 08:47:48</td>\n",
       "      <td>4</td>\n",
       "    </tr>\n",
       "    <tr>\n",
       "      <th>4</th>\n",
       "      <td>2</td>\n",
       "      <td>71045</td>\n",
       "      <td>2021-05-06</td>\n",
       "      <td>2021-04-30 12:19:01</td>\n",
       "      <td>5</td>\n",
       "    </tr>\n",
       "  </tbody>\n",
       "</table>\n",
       "</div>"
      ],
      "text/plain": [
       "   Encounter_ID CPT_Code Procedure_DateTime Last_Update_Timestamp  \\\n",
       "0             1    80053         2021-12-16   2021-12-22 04:36:10   \n",
       "1             1    81002         2021-12-16   2021-12-22 10:51:41   \n",
       "2             1    99213         2021-12-16   2021-12-12 23:34:58   \n",
       "3             2    93000         2021-05-06   2021-05-07 08:47:48   \n",
       "4             2    71045         2021-05-06   2021-04-30 12:19:01   \n",
       "\n",
       "   Procedure_ID  \n",
       "0             1  \n",
       "1             2  \n",
       "2             3  \n",
       "3             4  \n",
       "4             5  "
      ]
     },
     "execution_count": 76,
     "metadata": {},
     "output_type": "execute_result"
    }
   ],
   "source": [
    "data_procedures.head()"
   ]
  },
  {
   "cell_type": "code",
   "execution_count": 77,
   "id": "cfed5648",
   "metadata": {},
   "outputs": [
    {
     "name": "stdout",
     "output_type": "stream",
     "text": [
      "<class 'pandas.core.frame.DataFrame'>\n",
      "RangeIndex: 374726 entries, 0 to 374725\n",
      "Data columns (total 5 columns):\n",
      " #   Column                 Non-Null Count   Dtype \n",
      "---  ------                 --------------   ----- \n",
      " 0   Encounter_ID           374726 non-null  int64 \n",
      " 1   CPT_Code               374726 non-null  object\n",
      " 2   Procedure_DateTime     374726 non-null  object\n",
      " 3   Last_Update_Timestamp  374726 non-null  object\n",
      " 4   Procedure_ID           374726 non-null  int64 \n",
      "dtypes: int64(2), object(3)\n",
      "memory usage: 14.3+ MB\n"
     ]
    }
   ],
   "source": [
    "data_procedures.info()"
   ]
  },
  {
   "cell_type": "code",
   "execution_count": 78,
   "id": "05695e49",
   "metadata": {},
   "outputs": [
    {
     "data": {
      "text/plain": [
       "Encounter_ID             0\n",
       "CPT_Code                 0\n",
       "Procedure_DateTime       0\n",
       "Last_Update_Timestamp    0\n",
       "Procedure_ID             0\n",
       "dtype: int64"
      ]
     },
     "execution_count": 78,
     "metadata": {},
     "output_type": "execute_result"
    }
   ],
   "source": [
    "data_procedures.isnull().sum()"
   ]
  },
  {
   "cell_type": "code",
   "execution_count": 79,
   "id": "b16c50e3",
   "metadata": {},
   "outputs": [
    {
     "data": {
      "text/plain": [
       "np.int64(0)"
      ]
     },
     "execution_count": 79,
     "metadata": {},
     "output_type": "execute_result"
    }
   ],
   "source": [
    "data_procedures.duplicated().sum()"
   ]
  },
  {
   "cell_type": "code",
   "execution_count": 80,
   "id": "34807fb8",
   "metadata": {},
   "outputs": [],
   "source": [
    "data_procedures['Procedure_DateTime'] = pd.to_datetime(data_procedures['Procedure_DateTime'])\n",
    "data_procedures['Last_Update_Timestamp'] = pd.to_datetime(data_procedures['Last_Update_Timestamp'])"
   ]
  },
  {
   "cell_type": "code",
   "execution_count": 81,
   "id": "ff72fd45",
   "metadata": {},
   "outputs": [
    {
     "data": {
      "text/plain": [
       "array(['80053', '81002', '99213', '93000', '71045', '12002', '9999X',\n",
       "       'm999X', '99n9X', '99q9X', '9999F', '9q99X', '9A99X', 'S999X',\n",
       "       '9n99X', '99A9X', 'F999X', '999eX', '9Y99X', '9J99X', '99Y9X',\n",
       "       '999LX', 'v999X', '99t9X', '999fX', 'L999X', '9999x', 'n999X',\n",
       "       '99O9X', '9999K', '999qX', '99a9X', '99k9X', '9T99X', '999XX',\n",
       "       'E999X', 'b999X', '9f99X', 'A999X', '9M99X', '999MX', '9999A',\n",
       "       '999vX', 'P999X', '9B99X', 'c999X', '99h9X', '9G99X', '9999t',\n",
       "       'l999X', 'r999X', '99K9X', 'f999X', '999AX', '99L9X', '99M9X',\n",
       "       '99i9X', '9L99X', '9t99X', '9m99X', '99c9X', '99v9X', '9W99X',\n",
       "       '9P99X', 'i999X', '999TX', '99Z9X', '9999Q', '9999g', '999yX',\n",
       "       '9999D', '9999B', 'W999X', '9j99X', '9999m', '9999U', '9999o',\n",
       "       '999xX', '99B9X', 'T999X', '9r99X', '999jX', '9K99X', '9999f',\n",
       "       '9E99X', '9V99X', 'q999X', '9S99X', '9999Z', 'J999X', 'a999X',\n",
       "       'D999X', '9999P', 'd999X', 'y999X', '9999S', '999dX', '999wX',\n",
       "       'K999X', '9o99X', '99g9X', '9b99X', '99p9X', '999oX', '999lX',\n",
       "       '9999i', '99N9X', '999iX', '99D9X', 'z999X', 'w999X', 'x999X',\n",
       "       'X999X', '999DX', 'k999X', '9999a', 'H999X', '99U9X', '999pX',\n",
       "       '99f9X', '9999s', '9999R', '9999I', '999uX', '999sX', '9999N',\n",
       "       '999bX', '9999b', '9999C', '99R9X', '999JX', '99F9X', '99j9X',\n",
       "       '9999l', '9k99X', '9999Y', 'G999X', '9999n', '9999E', '9p99X',\n",
       "       '99w9X', '9999u', '9a99X', '9999T', '9N99X', 'R999X', '999VX',\n",
       "       '9c99X', 'o999X', '9Q99X', '9999k', '99s9X', '999kX', '9999v',\n",
       "       '9999H', '9x99X', '99o9X', 'C999X', '9999W', 'Q999X', '999gX',\n",
       "       '9R99X', '9999M', 'Z999X', '99I9X', '99J9X', 'N999X', '999QX',\n",
       "       '999CX', '9D99X', '9999h', '9v99X', 'u999X', '9999O', '9i99X',\n",
       "       '9w99X', '9999e', '999SX', '99W9X', '9999w', '9999j', '999HX',\n",
       "       '9l99X', '9999p', 's999X', 'U999X', '99T9X', '9999V', 'B999X',\n",
       "       't999X', '999BX', '9999z', 'Y999X', '99X9X', '9F99X', '9Z99X',\n",
       "       '999OX', '999PX', '9999y', 'M999X', '9999c', '9999J', '999zX',\n",
       "       'O999X', '9g99X', 'j999X', '9999q', '9999L', '99P9X', '999mX',\n",
       "       '999KX', '9H99X', '9C99X', '999NX', '999RX', 'g999X', '999WX',\n",
       "       '999EX', '9999d', '999FX', '99u9X', 'e999X', '99G9X', '9d99X',\n",
       "       '999GX', '9U99X', '999rX', '9X99X', '99x9X', '99m9X', 'p999X',\n",
       "       '9s99X', '99z9X', '999UX', '9z99X', 'h999X', 'V999X', '99E9X',\n",
       "       '99r9X', '9I99X', '999tX', '99e9X', 'I999X', '999YX', '9999G',\n",
       "       '999hX', '99y9X', '99d9X', '99b9X', '99Q9X', '99l9X', '9999r',\n",
       "       '999aX', '9u99X', '99S9X', '9h99X', '99V9X', '9O99X', '999cX',\n",
       "       '9y99X', '9e99X', '999ZX', '99H9X'], dtype=object)"
      ]
     },
     "execution_count": 81,
     "metadata": {},
     "output_type": "execute_result"
    }
   ],
   "source": [
    "data_procedures['CPT_Code'].unique()"
   ]
  },
  {
   "cell_type": "markdown",
   "id": "6736533a",
   "metadata": {},
   "source": [
    "| **Column Name**         | **Description**                                                                                                             |\n",
    "| ----------------------- | --------------------------------------------------------------------------------------------------------------------------- |\n",
    "| `Encounter_ID`          | Unique identifier referencing the patient’s clinical visit or hospitalization. Links the procedure to a specific encounter. |\n",
    "| `CPT_Code`              | A 5-digit **Current Procedural Terminology** code that represents the medical procedure performed (e.g., imaging, surgery). |\n",
    "| `Procedure_DateTime`    | The **exact date and time** when the procedure was performed.                                                               |\n",
    "| `Last_Update_Timestamp` | Timestamp of the **most recent update** to this record (for audit/version tracking).                                        |\n",
    "| `Procedure_ID`          | System-generated unique identifier for each procedure entry (primary key).                                                  |\n"
   ]
  },
  {
   "cell_type": "markdown",
   "id": "74b72866",
   "metadata": {},
   "source": [
    "data_procedures No duplicates , no Null values "
   ]
  },
  {
   "cell_type": "code",
   "execution_count": 82,
   "id": "07a6a213",
   "metadata": {},
   "outputs": [
    {
     "data": {
      "text/plain": [
       "ICD10_Code  CPT_Code\n",
       "K219        80053       15226\n",
       "            12002       15122\n",
       "J4520       93000       15099\n",
       "M545        80053       15076\n",
       "J4520       99213       15013\n",
       "E785        93000       15002\n",
       "            99213       14998\n",
       "G4733       12002       14990\n",
       "            93000       14983\n",
       "N390        81002       14970\n",
       "dtype: int64"
      ]
     },
     "execution_count": 82,
     "metadata": {},
     "output_type": "execute_result"
    }
   ],
   "source": [
    "# What are the most common diagnoses (ICD10 codes) and procedures (CPT codes) across patient populations?\n",
    "# Helps identify prevalent diseases and frequently performed interventions.\n",
    "\n",
    "# Merge patients with encounters, then diagnoses and procedures\n",
    "merged = data_patients.merge(\n",
    "    data_encounters[['Patient_Surrogate_ID', 'Encounter_ID']],\n",
    "    on='Patient_Surrogate_ID',\n",
    "    how='inner'\n",
    ").merge(\n",
    "    data_diagnoses[['Encounter_ID', 'ICD10_Code']],\n",
    "    on='Encounter_ID',\n",
    "    how='inner'\n",
    ").merge(\n",
    "    data_procedures[['Encounter_ID', 'CPT_Code']],\n",
    "    on='Encounter_ID',\n",
    "    how='inner'\n",
    ")\n",
    "\n",
    "# Show top 10 most common (ICD10, CPT) pairs\n",
    "merged.groupby(['ICD10_Code', 'CPT_Code']).size().sort_values(ascending=False).head(10)"
   ]
  },
  {
   "cell_type": "code",
   "execution_count": 83,
   "id": "d6733167",
   "metadata": {},
   "outputs": [
    {
     "name": "stdout",
     "output_type": "stream",
     "text": [
      "Diagnosis rate per patient by gender:\n",
      "Gender_Code\n",
      "A          22.099500\n",
      "F          21.945708\n",
      "M          21.784378\n",
      "Missing    21.869113\n",
      "O          21.630744\n",
      "U          22.212686\n",
      "X          22.035988\n",
      "dtype: float64\n",
      "\n",
      "Procedure rate per patient by gender:\n",
      "Gender_Code\n",
      "A          22.099500\n",
      "F          21.945708\n",
      "M          21.784378\n",
      "Missing    21.869113\n",
      "O          21.630744\n",
      "U          22.212686\n",
      "X          22.035988\n",
      "dtype: float64\n"
     ]
    }
   ],
   "source": [
    "# Calculate diagnosis rates and procedure rates by demographic groups\n",
    "\n",
    "# Group by Gender_Code and count unique patients with at least one diagnosis/procedure\n",
    "diagnosis_by_gender = merged.groupby('Gender_Code')['ICD10_Code'].count() / merged.groupby('Gender_Code')['Patient_Hash_ID'].nunique()\n",
    "procedure_by_gender = merged.groupby('Gender_Code')['CPT_Code'].count() / merged.groupby('Gender_Code')['Patient_Hash_ID'].nunique()\n",
    "\n",
    "print(\"Diagnosis rate per patient by gender:\")\n",
    "print(diagnosis_by_gender)\n",
    "print(\"\\nProcedure rate per patient by gender:\")\n",
    "print(procedure_by_gender)"
   ]
  },
  {
   "cell_type": "code",
   "execution_count": 84,
   "id": "882cfc09",
   "metadata": {},
   "outputs": [
    {
     "name": "stdout",
     "output_type": "stream",
     "text": [
      "\n",
      "Diagnosis rate per patient by age group:\n",
      "Age_Group\n",
      "<1940        21.909590\n",
      "1940-1959    21.996372\n",
      "1960-1979    21.835002\n",
      "1980-1999    22.121325\n",
      "2000+        21.880271\n",
      "dtype: float64\n",
      "\n",
      "Procedure rate per patient by age group:\n",
      "Age_Group\n",
      "<1940        21.909590\n",
      "1940-1959    21.996372\n",
      "1960-1979    21.835002\n",
      "1980-1999    22.121325\n",
      "2000+        21.880271\n",
      "dtype: float64\n"
     ]
    }
   ],
   "source": [
    "# Group by Birth_Year bins (age groups)\n",
    "age_bins = [1900, 1940, 1960, 1980, 2000, 2025]\n",
    "age_labels = ['<1940', '1940-1959', '1960-1979', '1980-1999', '2000+']\n",
    "merged['Age_Group'] = pd.cut(merged['Birth_Year'], bins=age_bins, labels=age_labels, right=False)\n",
    "\n",
    "diagnosis_by_age = merged.groupby('Age_Group')['ICD10_Code'].count() / merged.groupby('Age_Group')['Patient_Hash_ID'].nunique()\n",
    "procedure_by_age = merged.groupby('Age_Group')['CPT_Code'].count() / merged.groupby('Age_Group')['Patient_Hash_ID'].nunique()\n",
    "\n",
    "print(\"\\nDiagnosis rate per patient by age group:\")\n",
    "print(diagnosis_by_age)\n",
    "print(\"\\nProcedure rate per patient by age group:\")\n",
    "print(procedure_by_age)\n",
    "\n"
   ]
  },
  {
   "cell_type": "code",
   "execution_count": 85,
   "id": "5cc56ca9",
   "metadata": {},
   "outputs": [
    {
     "name": "stdout",
     "output_type": "stream",
     "text": [
      "\n",
      "Top 10 ZIP3 codes by diagnosis rate per patient:\n",
      "Zip3_Code\n",
      "fid           79.0\n",
      "C6q1          71.0\n",
      "pF3xtv        71.0\n",
      "y7OGzE        70.0\n",
      "eGWd          67.0\n",
      "LbWp          66.0\n",
      "Zum           66.0\n",
      "Idi           66.0\n",
      "qcasgg5HZd    66.0\n",
      "99cVdcN       64.0\n",
      "dtype: float64\n",
      "\n",
      "Top 10 ZIP3 codes by procedure rate per patient:\n",
      "Zip3_Code\n",
      "fid           79.0\n",
      "C6q1          71.0\n",
      "pF3xtv        71.0\n",
      "y7OGzE        70.0\n",
      "eGWd          67.0\n",
      "LbWp          66.0\n",
      "Zum           66.0\n",
      "Idi           66.0\n",
      "qcasgg5HZd    66.0\n",
      "99cVdcN       64.0\n",
      "dtype: float64\n"
     ]
    }
   ],
   "source": [
    "# Group by ZIP3\n",
    "diagnosis_by_zip3 = merged.groupby('Zip3_Code')['ICD10_Code'].count() / merged.groupby('Zip3_Code')['Patient_Hash_ID'].nunique()\n",
    "procedure_by_zip3 = merged.groupby('Zip3_Code')['CPT_Code'].count() / merged.groupby('Zip3_Code')['Patient_Hash_ID'].nunique()\n",
    "\n",
    "print(\"\\nTop 10 ZIP3 codes by diagnosis rate per patient:\")\n",
    "print(diagnosis_by_zip3.sort_values(ascending=False).head(10))\n",
    "print(\"\\nTop 10 ZIP3 codes by procedure rate per patient:\")\n",
    "print(procedure_by_zip3.sort_values(ascending=False).head(10))"
   ]
  },
  {
   "cell_type": "code",
   "execution_count": 86,
   "id": "6f831436",
   "metadata": {},
   "outputs": [
    {
     "name": "stdout",
     "output_type": "stream",
     "text": [
      "Readmission rate by ICD10 code (top 10):\n",
      "ICD10_Code\n",
      "e999    0.200000\n",
      "X9d9    0.200000\n",
      "Xv99    0.142857\n",
      "X9g9    0.133333\n",
      "Xa99    0.125000\n",
      "X9c9    0.125000\n",
      "I999    0.111111\n",
      "X99D    0.111111\n",
      "X9R9    0.111111\n",
      "X9o9    0.111111\n",
      "Name: Readmitted_30d, dtype: float64\n",
      "\n",
      "Readmission rate by CPT code (top 10):\n",
      "CPT_Code\n",
      "9l99X    0.666667\n",
      "99w9X    0.500000\n",
      "9999a    0.333333\n",
      "9O99X    0.250000\n",
      "999OX    0.200000\n",
      "999dX    0.166667\n",
      "999YX    0.166667\n",
      "W999X    0.153846\n",
      "9r99X    0.153846\n",
      "9E99X    0.142857\n",
      "Name: Readmitted_30d, dtype: float64\n"
     ]
    }
   ],
   "source": [
    "# To analyze patient outcomes by diagnosis (ICD10) or procedure (CPT), we need to define outcome metrics.\n",
    "# Example: Readmission rate = % of patients with a repeat encounter within 30 days of discharge for a given diagnosis/procedure.\n",
    "\n",
    "# First, merge encounters with diagnoses and procedures\n",
    "enc_diag = data_encounters.merge(\n",
    "    data_diagnoses[['Encounter_ID', 'ICD10_Code']],\n",
    "    on='Encounter_ID',\n",
    "    how='left'\n",
    ").merge(\n",
    "    data_procedures[['Encounter_ID', 'CPT_Code']],\n",
    "    on='Encounter_ID',\n",
    "    how='left'\n",
    ")\n",
    "\n",
    "# Sort by patient and encounter date\n",
    "enc_diag = enc_diag.sort_values(['Patient_Surrogate_ID', 'Encounter_Date'])\n",
    "\n",
    "# Calculate readmission within 30 days for each encounter\n",
    "enc_diag['Next_Encounter_Date'] = enc_diag.groupby('Patient_Surrogate_ID')['Encounter_Date'].shift(-1)\n",
    "enc_diag['Days_To_Next'] = (enc_diag['Next_Encounter_Date'] - enc_diag['Encounter_Date']).dt.days\n",
    "enc_diag['Readmitted_30d'] = (enc_diag['Days_To_Next'] <= 30) & (enc_diag['Days_To_Next'] > 0)\n",
    "\n",
    "# Readmission rate by ICD10 code\n",
    "readmit_by_icd = enc_diag.groupby('ICD10_Code')['Readmitted_30d'].mean().sort_values(ascending=False)\n",
    "print(\"Readmission rate by ICD10 code (top 10):\")\n",
    "print(readmit_by_icd.head(10))\n",
    "\n",
    "# Readmission rate by CPT code\n",
    "readmit_by_cpt = enc_diag.groupby('CPT_Code')['Readmitted_30d'].mean().sort_values(ascending=False)\n",
    "print(\"\\nReadmission rate by CPT code (top 10):\")\n",
    "print(readmit_by_cpt.head(10))"
   ]
  },
  {
   "cell_type": "code",
   "execution_count": 87,
   "id": "e683ce19",
   "metadata": {},
   "outputs": [
    {
     "name": "stdout",
     "output_type": "stream",
     "text": [
      "Total audit log entries: 10000\n",
      "Entries with missing Table_Name: 0\n",
      "Entries with invalid Action_Type: 1974\n",
      "Entries with missing/invalid Purpose_Code: 4044\n",
      "\n",
      "Patient data access entries: 10000\n",
      "Non-compliant patient data access entries: 5206\n",
      "\n",
      "Some patient data accesses are not compliant. Review the following entries:\n"
     ]
    },
    {
     "data": {
      "text/html": [
       "<div>\n",
       "<style scoped>\n",
       "    .dataframe tbody tr th:only-of-type {\n",
       "        vertical-align: middle;\n",
       "    }\n",
       "\n",
       "    .dataframe tbody tr th {\n",
       "        vertical-align: top;\n",
       "    }\n",
       "\n",
       "    .dataframe thead th {\n",
       "        text-align: right;\n",
       "    }\n",
       "</style>\n",
       "<table border=\"1\" class=\"dataframe\">\n",
       "  <thead>\n",
       "    <tr style=\"text-align: right;\">\n",
       "      <th></th>\n",
       "      <th>User_ID</th>\n",
       "      <th>Table_Name</th>\n",
       "      <th>Record_ID</th>\n",
       "      <th>Action_Type</th>\n",
       "      <th>Purpose_Code</th>\n",
       "      <th>Action_Timestamp</th>\n",
       "      <th>Audit_ID</th>\n",
       "    </tr>\n",
       "  </thead>\n",
       "  <tbody>\n",
       "    <tr>\n",
       "      <th>1</th>\n",
       "      <td>mckinneyandrea</td>\n",
       "      <td>Procedure</td>\n",
       "      <td>102267</td>\n",
       "      <td>DELETE</td>\n",
       "      <td>UNKNOWN_PURPOSE</td>\n",
       "      <td>2024-09-07 03:14:25</td>\n",
       "      <td>2</td>\n",
       "    </tr>\n",
       "    <tr>\n",
       "      <th>2</th>\n",
       "      <td>barbara69</td>\n",
       "      <td>Encounter</td>\n",
       "      <td>57280</td>\n",
       "      <td>DELETE</td>\n",
       "      <td>UNKNOWN_PURPOSE</td>\n",
       "      <td>2025-02-12 10:04:51</td>\n",
       "      <td>3</td>\n",
       "    </tr>\n",
       "    <tr>\n",
       "      <th>3</th>\n",
       "      <td>umartinez</td>\n",
       "      <td>Encounter</td>\n",
       "      <td>215485</td>\n",
       "      <td>INSERT</td>\n",
       "      <td>INVALID</td>\n",
       "      <td>2023-11-19 01:40:17</td>\n",
       "      <td>4</td>\n",
       "    </tr>\n",
       "    <tr>\n",
       "      <th>4</th>\n",
       "      <td>qallen</td>\n",
       "      <td>Observation</td>\n",
       "      <td>214473</td>\n",
       "      <td>INVALID_ACTION</td>\n",
       "      <td>INVALID</td>\n",
       "      <td>2024-12-27 04:51:45</td>\n",
       "      <td>5</td>\n",
       "    </tr>\n",
       "    <tr>\n",
       "      <th>5</th>\n",
       "      <td>perryoscar</td>\n",
       "      <td>Observation</td>\n",
       "      <td>225171</td>\n",
       "      <td>INVALID_ACTION</td>\n",
       "      <td>UNKNOWN_PURPOSE</td>\n",
       "      <td>2024-07-04 12:04:22</td>\n",
       "      <td>6</td>\n",
       "    </tr>\n",
       "    <tr>\n",
       "      <th>7</th>\n",
       "      <td>hsimmons</td>\n",
       "      <td>Encounter</td>\n",
       "      <td>241225</td>\n",
       "      <td>INVALID_ACTION</td>\n",
       "      <td>UNKNOWN_PURPOSE</td>\n",
       "      <td>2023-10-28 21:38:16</td>\n",
       "      <td>8</td>\n",
       "    </tr>\n",
       "    <tr>\n",
       "      <th>11</th>\n",
       "      <td>patricia44_admin</td>\n",
       "      <td>Procedure</td>\n",
       "      <td>326</td>\n",
       "      <td>INSERT</td>\n",
       "      <td>UNKNOWN_PURPOSE</td>\n",
       "      <td>2023-07-18 02:28:30</td>\n",
       "      <td>12</td>\n",
       "    </tr>\n",
       "    <tr>\n",
       "      <th>12</th>\n",
       "      <td>grosario</td>\n",
       "      <td>Encounter</td>\n",
       "      <td>20404</td>\n",
       "      <td>INSERT</td>\n",
       "      <td>UNKNOWN_PURPOSE</td>\n",
       "      <td>2024-01-27 15:14:59</td>\n",
       "      <td>13</td>\n",
       "    </tr>\n",
       "    <tr>\n",
       "      <th>13</th>\n",
       "      <td>dawnshannon</td>\n",
       "      <td>Diagnosis</td>\n",
       "      <td>347520</td>\n",
       "      <td>SELECT</td>\n",
       "      <td>INVALID</td>\n",
       "      <td>2023-10-26 12:10:24</td>\n",
       "      <td>14</td>\n",
       "    </tr>\n",
       "    <tr>\n",
       "      <th>14</th>\n",
       "      <td>wardlarry</td>\n",
       "      <td>Patient</td>\n",
       "      <td>22962</td>\n",
       "      <td>INVALID_ACTION</td>\n",
       "      <td>UNKNOWN_PURPOSE</td>\n",
       "      <td>2024-04-06 07:06:56</td>\n",
       "      <td>15</td>\n",
       "    </tr>\n",
       "  </tbody>\n",
       "</table>\n",
       "</div>"
      ],
      "text/plain": [
       "             User_ID   Table_Name  Record_ID     Action_Type     Purpose_Code  \\\n",
       "1     mckinneyandrea    Procedure     102267          DELETE  UNKNOWN_PURPOSE   \n",
       "2          barbara69    Encounter      57280          DELETE  UNKNOWN_PURPOSE   \n",
       "3          umartinez    Encounter     215485          INSERT          INVALID   \n",
       "4             qallen  Observation     214473  INVALID_ACTION          INVALID   \n",
       "5         perryoscar  Observation     225171  INVALID_ACTION  UNKNOWN_PURPOSE   \n",
       "7           hsimmons    Encounter     241225  INVALID_ACTION  UNKNOWN_PURPOSE   \n",
       "11  patricia44_admin    Procedure        326          INSERT  UNKNOWN_PURPOSE   \n",
       "12          grosario    Encounter      20404          INSERT  UNKNOWN_PURPOSE   \n",
       "13       dawnshannon    Diagnosis     347520          SELECT          INVALID   \n",
       "14         wardlarry      Patient      22962  INVALID_ACTION  UNKNOWN_PURPOSE   \n",
       "\n",
       "      Action_Timestamp  Audit_ID  \n",
       "1  2024-09-07 03:14:25         2  \n",
       "2  2025-02-12 10:04:51         3  \n",
       "3  2023-11-19 01:40:17         4  \n",
       "4  2024-12-27 04:51:45         5  \n",
       "5  2024-07-04 12:04:22         6  \n",
       "7  2023-10-28 21:38:16         8  \n",
       "11 2023-07-18 02:28:30        12  \n",
       "12 2024-01-27 15:14:59        13  \n",
       "13 2023-10-26 12:10:24        14  \n",
       "14 2024-04-06 07:06:56        15  "
      ]
     },
     "metadata": {},
     "output_type": "display_data"
    }
   ],
   "source": [
    "# Check if all patient data accesses are logged and compliant with GDPR/HIPAA\n",
    "\n",
    "# 1. Are all accesses logged? (Check for missing/invalid log entries)\n",
    "total_actions = len(data_audit)\n",
    "missing_table = (data_audit['Table_Name'].isnull() | (data_audit['Table_Name'] == ''))\n",
    "invalid_action = ~data_audit['Action_Type'].isin(['SELECT', 'INSERT', 'UPDATE', 'DELETE'])\n",
    "missing_purpose = (data_audit['Purpose_Code'].isnull() | (data_audit['Purpose_Code'].str.upper().isin(['INVALID', 'MISSING', 'UNKNOWN_PURPOSE'])))\n",
    "\n",
    "print(f\"Total audit log entries: {total_actions}\")\n",
    "print(f\"Entries with missing Table_Name: {missing_table.sum()}\")\n",
    "print(f\"Entries with invalid Action_Type: {invalid_action.sum()}\")\n",
    "print(f\"Entries with missing/invalid Purpose_Code: {missing_purpose.sum()}\")\n",
    "\n",
    "# 2. Are accesses compliant? (Purpose_Code must be valid, and only allowed actions on patient tables)\n",
    "patient_tables = ['Patient', 'Encounter', 'Diagnosis', 'Observation', 'Procedure', 'Consents']\n",
    "patient_access = data_audit[data_audit['Table_Name'].isin(patient_tables)]\n",
    "non_compliant = patient_access[missing_purpose | invalid_action]\n",
    "\n",
    "print(f\"\\nPatient data access entries: {len(patient_access)}\")\n",
    "print(f\"Non-compliant patient data access entries: {len(non_compliant)}\")\n",
    "\n",
    "# 3. Summary report\n",
    "if len(non_compliant) == 0:\n",
    "    print(\"\\nAll patient data accesses are logged and appear compliant with GDPR/HIPAA policies.\")\n",
    "else:\n",
    "    print(\"\\nSome patient data accesses are not compliant. Review the following entries:\")\n",
    "    display(non_compliant.head(10))"
   ]
  },
  {
   "cell_type": "code",
   "execution_count": 88,
   "id": "02d8131b",
   "metadata": {},
   "outputs": [
    {
     "data": {
      "text/html": [
       "<div>\n",
       "<style scoped>\n",
       "    .dataframe tbody tr th:only-of-type {\n",
       "        vertical-align: middle;\n",
       "    }\n",
       "\n",
       "    .dataframe tbody tr th {\n",
       "        vertical-align: top;\n",
       "    }\n",
       "\n",
       "    .dataframe thead th {\n",
       "        text-align: right;\n",
       "    }\n",
       "</style>\n",
       "<table border=\"1\" class=\"dataframe\">\n",
       "  <thead>\n",
       "    <tr style=\"text-align: right;\">\n",
       "      <th></th>\n",
       "      <th>User_ID</th>\n",
       "      <th>Table_Name</th>\n",
       "      <th>Action_Type</th>\n",
       "      <th>Purpose_Code</th>\n",
       "      <th>Non_Compliance_Reason</th>\n",
       "    </tr>\n",
       "  </thead>\n",
       "  <tbody>\n",
       "    <tr>\n",
       "      <th>1</th>\n",
       "      <td>mckinneyandrea</td>\n",
       "      <td>Procedure</td>\n",
       "      <td>DELETE</td>\n",
       "      <td>UNKNOWN_PURPOSE</td>\n",
       "      <td>Invalid or missing Purpose_Code</td>\n",
       "    </tr>\n",
       "    <tr>\n",
       "      <th>2</th>\n",
       "      <td>barbara69</td>\n",
       "      <td>Encounter</td>\n",
       "      <td>DELETE</td>\n",
       "      <td>UNKNOWN_PURPOSE</td>\n",
       "      <td>Invalid or missing Purpose_Code</td>\n",
       "    </tr>\n",
       "    <tr>\n",
       "      <th>3</th>\n",
       "      <td>umartinez</td>\n",
       "      <td>Encounter</td>\n",
       "      <td>INSERT</td>\n",
       "      <td>INVALID</td>\n",
       "      <td>Invalid or missing Purpose_Code</td>\n",
       "    </tr>\n",
       "    <tr>\n",
       "      <th>4</th>\n",
       "      <td>qallen</td>\n",
       "      <td>Observation</td>\n",
       "      <td>INVALID_ACTION</td>\n",
       "      <td>INVALID</td>\n",
       "      <td>Invalid Action_Type (not SELECT/INSERT/UPDATE/...</td>\n",
       "    </tr>\n",
       "    <tr>\n",
       "      <th>5</th>\n",
       "      <td>perryoscar</td>\n",
       "      <td>Observation</td>\n",
       "      <td>INVALID_ACTION</td>\n",
       "      <td>UNKNOWN_PURPOSE</td>\n",
       "      <td>Invalid Action_Type (not SELECT/INSERT/UPDATE/...</td>\n",
       "    </tr>\n",
       "    <tr>\n",
       "      <th>7</th>\n",
       "      <td>hsimmons</td>\n",
       "      <td>Encounter</td>\n",
       "      <td>INVALID_ACTION</td>\n",
       "      <td>UNKNOWN_PURPOSE</td>\n",
       "      <td>Invalid Action_Type (not SELECT/INSERT/UPDATE/...</td>\n",
       "    </tr>\n",
       "    <tr>\n",
       "      <th>11</th>\n",
       "      <td>patricia44_admin</td>\n",
       "      <td>Procedure</td>\n",
       "      <td>INSERT</td>\n",
       "      <td>UNKNOWN_PURPOSE</td>\n",
       "      <td>Invalid or missing Purpose_Code</td>\n",
       "    </tr>\n",
       "    <tr>\n",
       "      <th>12</th>\n",
       "      <td>grosario</td>\n",
       "      <td>Encounter</td>\n",
       "      <td>INSERT</td>\n",
       "      <td>UNKNOWN_PURPOSE</td>\n",
       "      <td>Invalid or missing Purpose_Code</td>\n",
       "    </tr>\n",
       "    <tr>\n",
       "      <th>13</th>\n",
       "      <td>dawnshannon</td>\n",
       "      <td>Diagnosis</td>\n",
       "      <td>SELECT</td>\n",
       "      <td>INVALID</td>\n",
       "      <td>Invalid or missing Purpose_Code</td>\n",
       "    </tr>\n",
       "    <tr>\n",
       "      <th>14</th>\n",
       "      <td>wardlarry</td>\n",
       "      <td>Patient</td>\n",
       "      <td>INVALID_ACTION</td>\n",
       "      <td>UNKNOWN_PURPOSE</td>\n",
       "      <td>Invalid Action_Type (not SELECT/INSERT/UPDATE/...</td>\n",
       "    </tr>\n",
       "  </tbody>\n",
       "</table>\n",
       "</div>"
      ],
      "text/plain": [
       "             User_ID   Table_Name     Action_Type     Purpose_Code  \\\n",
       "1     mckinneyandrea    Procedure          DELETE  UNKNOWN_PURPOSE   \n",
       "2          barbara69    Encounter          DELETE  UNKNOWN_PURPOSE   \n",
       "3          umartinez    Encounter          INSERT          INVALID   \n",
       "4             qallen  Observation  INVALID_ACTION          INVALID   \n",
       "5         perryoscar  Observation  INVALID_ACTION  UNKNOWN_PURPOSE   \n",
       "7           hsimmons    Encounter  INVALID_ACTION  UNKNOWN_PURPOSE   \n",
       "11  patricia44_admin    Procedure          INSERT  UNKNOWN_PURPOSE   \n",
       "12          grosario    Encounter          INSERT  UNKNOWN_PURPOSE   \n",
       "13       dawnshannon    Diagnosis          SELECT          INVALID   \n",
       "14         wardlarry      Patient  INVALID_ACTION  UNKNOWN_PURPOSE   \n",
       "\n",
       "                                Non_Compliance_Reason  \n",
       "1                     Invalid or missing Purpose_Code  \n",
       "2                     Invalid or missing Purpose_Code  \n",
       "3                     Invalid or missing Purpose_Code  \n",
       "4   Invalid Action_Type (not SELECT/INSERT/UPDATE/...  \n",
       "5   Invalid Action_Type (not SELECT/INSERT/UPDATE/...  \n",
       "7   Invalid Action_Type (not SELECT/INSERT/UPDATE/...  \n",
       "11                    Invalid or missing Purpose_Code  \n",
       "12                    Invalid or missing Purpose_Code  \n",
       "13                    Invalid or missing Purpose_Code  \n",
       "14  Invalid Action_Type (not SELECT/INSERT/UPDATE/...  "
      ]
     },
     "execution_count": 88,
     "metadata": {},
     "output_type": "execute_result"
    }
   ],
   "source": [
    "# Explanation of non-compliance for entries in 'non_compliant'\n",
    "\n",
    "def explain_non_compliance(row):\n",
    "    reasons = []\n",
    "    # Action_Type must be one of the allowed actions\n",
    "    if row['Action_Type'] not in ['SELECT', 'INSERT', 'UPDATE', 'DELETE']:\n",
    "        reasons.append(\"Invalid Action_Type (not SELECT/INSERT/UPDATE/DELETE)\")\n",
    "    # Purpose_Code must be valid and not a placeholder/invalid value\n",
    "    if str(row['Purpose_Code']).upper() in ['INVALID', 'MISSING', 'UNKNOWN_PURPOSE', 'NAN', '']:\n",
    "        reasons.append(\"Invalid or missing Purpose_Code\")\n",
    "    return \"; \".join(reasons) if reasons else \"Compliant\"\n",
    "\n",
    "non_compliant['Non_Compliance_Reason'] = non_compliant.apply(explain_non_compliance, axis=1)\n",
    "non_compliant[['User_ID', 'Table_Name', 'Action_Type', 'Purpose_Code', 'Non_Compliance_Reason']].head(10)"
   ]
  },
  {
   "cell_type": "code",
   "execution_count": 89,
   "id": "d6ca16e8",
   "metadata": {},
   "outputs": [
    {
     "name": "stdout",
     "output_type": "stream",
     "text": [
      "Top 10 providers by procedure volume (Procedure_ID):\n",
      "Procedure_ID\n",
      "374726    1\n",
      "1         1\n",
      "2         1\n",
      "3         1\n",
      "4         1\n",
      "5         1\n",
      "374710    1\n",
      "374709    1\n",
      "374708    1\n",
      "374707    1\n",
      "Name: count, dtype: int64\n",
      "\n",
      "Top 10 providers by procedure variety (unique CPT codes):\n",
      "Procedure_ID\n",
      "374726    1\n",
      "1         1\n",
      "2         1\n",
      "3         1\n",
      "4         1\n",
      "5         1\n",
      "374710    1\n",
      "374709    1\n",
      "374708    1\n",
      "374707    1\n",
      "Name: CPT_Code, dtype: int64\n"
     ]
    }
   ],
   "source": [
    "# Merge procedures with practitioners to analyze provider performance\n",
    "proc_with_provider = data_procedures.merge(\n",
    "    data_practitioners[['Practitioner_ID', 'Specialty_Code']],\n",
    "    left_on='Procedure_ID', right_on='Practitioner_ID', how='left'\n",
    ")\n",
    "\n",
    "# Count total procedures performed by each provider\n",
    "provider_volume = data_procedures['Procedure_ID'].groupby(data_procedures['Procedure_ID']).count()\n",
    "top_providers_by_volume = data_procedures['Procedure_ID'].value_counts().head(10)\n",
    "\n",
    "# Count unique CPT codes (variety) performed by each provider\n",
    "provider_variety = data_procedures.groupby('Procedure_ID')['CPT_Code'].nunique().sort_values(ascending=False).head(10)\n",
    "\n",
    "print(\"Top 10 providers by procedure volume (Procedure_ID):\")\n",
    "print(top_providers_by_volume)\n",
    "print(\"\\nTop 10 providers by procedure variety (unique CPT codes):\")\n",
    "print(provider_variety)"
   ]
  },
  {
   "cell_type": "code",
   "execution_count": 90,
   "id": "e937ea45",
   "metadata": {},
   "outputs": [
    {
     "data": {
      "image/png": "[encoded data removed]",
      "text/plain": [
       "<Figure size 1400x800 with 1 Axes>"
      ]
     },
     "metadata": {},
     "output_type": "display_data"
    }
   ],
   "source": [
    "# Temporal trends in diagnoses and procedures over time\n",
    "\n",
    "# Group diagnoses by month/year\n",
    "diagnoses_trend = data_diagnoses.copy()\n",
    "diagnoses_trend['YearMonth'] = diagnoses_trend['Last_Update_Timestamp'].dt.to_period('M')\n",
    "diagnoses_counts = diagnoses_trend.groupby('YearMonth')['Diagnosis_ID'].count()\n",
    "\n",
    "# Group procedures by month/year\n",
    "procedures_trend = data_procedures.copy()\n",
    "procedures_trend['YearMonth'] = procedures_trend['Last_Update_Timestamp'].dt.to_period('M')\n",
    "procedures_counts = procedures_trend.groupby('YearMonth')['Procedure_ID'].count()\n",
    "\n",
    "# Plot temporal trends\n",
    "plt.figure(figsize=(14, 8))\n",
    "plt.plot(diagnoses_counts.index.astype(str), diagnoses_counts.values, label='Diagnoses')\n",
    "plt.plot(procedures_counts.index.astype(str), procedures_counts.values, label='Procedures')\n",
    "plt.xlabel('Year-Month')\n",
    "plt.ylabel('Count')\n",
    "plt.title('Temporal Trends in Diagnoses and Procedures')\n",
    "plt.xticks(rotation=90)\n",
    "plt.legend()\n",
    "plt.tight_layout()\n",
    "plt.show()"
   ]
  },
  {
   "cell_type": "code",
   "execution_count": 92,
   "id": "324ae463",
   "metadata": {},
   "outputs": [
    {
     "name": "stdout",
     "output_type": "stream",
     "text": [
      "FHIR Patient fields missing in local data_patients table:\n",
      "{'telecom', 'maritalStatus', 'communication', 'deceasedBoolean', 'address', 'id', 'birthDate', 'name', 'gender', 'identifier'}\n",
      "\n",
      "Local fields not present in FHIR Patient resource:\n",
      "{'Zip3_Code', 'Birth_Year', 'Patient_Hash_ID', 'Last_Update_Timestamp', 'Gender_Code', 'Patient_Surrogate_ID', 'Race_Ethnicity_Code'}\n"
     ]
    }
   ],
   "source": [
    "# FHIR Gap Analysis: Compare table structures to FHIR R4 profiles\n",
    "\n",
    "# Example: Compare data_patients to FHIR Patient resource\n",
    "fhir_patient_fields = [\n",
    "    'id', 'identifier', 'name', 'telecom', 'gender', 'birthDate', 'address', 'maritalStatus', 'communication', 'deceasedBoolean'\n",
    "]\n",
    "local_patient_fields = set(data_patients.columns)\n",
    "\n",
    "missing_in_local = set(fhir_patient_fields) - local_patient_fields\n",
    "extra_in_local = local_patient_fields - set(fhir_patient_fields)\n",
    "\n",
    "print(\"FHIR Patient fields missing in local data_patients table:\")\n",
    "print(missing_in_local)\n",
    "print(\"\\nLocal fields not present in FHIR Patient resource:\")\n",
    "print(extra_in_local)\n",
    "\n"
   ]
  },
  {
   "cell_type": "code",
   "execution_count": 93,
   "id": "fa09c74d",
   "metadata": {},
   "outputs": [
    {
     "name": "stdout",
     "output_type": "stream",
     "text": [
      "FHIR Encounter fields missing in local data_encounters table:\n",
      "{'period', 'type', 'class', 'status', 'participant', 'serviceProvider', 'id', 'subject', 'diagnosis', 'reasonCode'}\n",
      "\n",
      "Local fields not present in FHIR Encounter resource:\n",
      "{'Location_Code', 'Encounter_Type_Code', 'Patient_Surrogate_ID', 'Encounter_Date', 'Last_Update_Timestamp', 'Encounter_ID', 'Attending_Prov_ID'}\n"
     ]
    }
   ],
   "source": [
    "# FHIR Gap Analysis: Compare other local tables to their FHIR R4 resources\n",
    "\n",
    "# Example: Compare data_encounters to FHIR Encounter resource\n",
    "fhir_encounter_fields = [\n",
    "    'id', 'status', 'class', 'type', 'subject', 'participant', 'period', 'reasonCode', 'diagnosis', 'serviceProvider'\n",
    "]\n",
    "local_encounter_fields = set(data_encounters.columns)\n",
    "\n",
    "missing_in_local_encounter = set(fhir_encounter_fields) - local_encounter_fields\n",
    "extra_in_local_encounter = local_encounter_fields - set(fhir_encounter_fields)\n",
    "\n",
    "print(\"FHIR Encounter fields missing in local data_encounters table:\")\n",
    "print(missing_in_local_encounter)\n",
    "print(\"\\nLocal fields not present in FHIR Encounter resource:\")\n",
    "print(extra_in_local_encounter)"
   ]
  },
  {
   "cell_type": "code",
   "execution_count": 94,
   "id": "44f93ded",
   "metadata": {},
   "outputs": [
    {
     "name": "stdout",
     "output_type": "stream",
     "text": [
      "\n",
      "FHIR Observation fields missing in local data_observations table:\n",
      "{'code', 'category', 'interpretation', 'status', 'referenceRange', 'id', 'subject', 'valueQuantity', 'encounter', 'effectiveDateTime'}\n",
      "\n",
      "Local fields not present in FHIR Observation resource:\n",
      "{'Observation_DateTime', 'LOINC_Code', 'Observation_ID', 'Value_Num', 'Last_Update_Timestamp', 'Value_Unit', 'Encounter_ID'}\n"
     ]
    }
   ],
   "source": [
    "# Example: Compare data_observations to FHIR Observation resource\n",
    "fhir_observation_fields = [\n",
    "    'id', 'status', 'category', 'code', 'subject', 'encounter', 'effectiveDateTime', 'valueQuantity', 'interpretation', 'referenceRange'\n",
    "]\n",
    "local_observation_fields = set(data_observations.columns)\n",
    "\n",
    "missing_in_local_observation = set(fhir_observation_fields) - local_observation_fields\n",
    "extra_in_local_observation = local_observation_fields - set(fhir_observation_fields)\n",
    "\n",
    "print(\"\\nFHIR Observation fields missing in local data_observations table:\")\n",
    "print(missing_in_local_observation)\n",
    "print(\"\\nLocal fields not present in FHIR Observation resource:\")\n",
    "print(extra_in_local_observation)\n",
    "\n"
   ]
  },
  {
   "cell_type": "code",
   "execution_count": 95,
   "id": "bb0ee20f",
   "metadata": {},
   "outputs": [
    {
     "name": "stdout",
     "output_type": "stream",
     "text": [
      "\n",
      "FHIR Procedure fields missing in local data_procedures table:\n",
      "{'code', 'category', 'performedDateTime', 'status', 'performer', 'bodySite', 'id', 'subject', 'encounter', 'reasonCode'}\n",
      "\n",
      "Local fields not present in FHIR Procedure resource:\n",
      "{'Procedure_DateTime', 'CPT_Code', 'Last_Update_Timestamp', 'Encounter_ID', 'Procedure_ID'}\n"
     ]
    }
   ],
   "source": [
    "# Example: Compare data_procedures to FHIR Procedure resource\n",
    "fhir_procedure_fields = [\n",
    "    'id', 'status', 'category', 'code', 'subject', 'encounter', 'performedDateTime', 'performer', 'reasonCode', 'bodySite'\n",
    "]\n",
    "local_procedure_fields = set(data_procedures.columns)\n",
    "\n",
    "missing_in_local_procedure = set(fhir_procedure_fields) - local_procedure_fields\n",
    "extra_in_local_procedure = local_procedure_fields - set(fhir_procedure_fields)\n",
    "\n",
    "print(\"\\nFHIR Procedure fields missing in local data_procedures table:\")\n",
    "print(missing_in_local_procedure)\n",
    "print(\"\\nLocal fields not present in FHIR Procedure resource:\")\n",
    "print(extra_in_local_procedure)"
   ]
  }
 ],
 "metadata": {
  "kernelspec": {
   "display_name": "Python 3",
   "language": "python",
   "name": "python3"
  },
  "language_info": {
   "codemirror_mode": {
    "name": "ipython",
    "version": 3
   },
   "file_extension": ".py",
   "mimetype": "text/x-python",
   "name": "python",
   "nbconvert_exporter": "python",
   "pygments_lexer": "ipython3",
   "version": "3.13.3"
  }
 },
 "nbformat": 4,
 "nbformat_minor": 5
}
